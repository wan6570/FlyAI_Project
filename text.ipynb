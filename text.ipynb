{
 "cells": [
  {
   "cell_type": "code",
   "execution_count": 34,
   "metadata": {},
   "outputs": [
    {
     "data": {
      "text/plain": [
       "[['XPD', 0.02], ['DPM', 0.03], ['KP', 0.03]]"
      ]
     },
     "execution_count": 34,
     "metadata": {},
     "output_type": "execute_result"
    }
   ],
   "source": [
    "# data = {\n",
    "#         'Feature': ['GPM', 'VSPM', 'DPM', 'KP', 'XPD'],\n",
    "#         'User': [GPM_user, VSPM_user, DPM_user, KP_user, XPD_user],\n",
    "#         similar_player: [GPM_pro, VSPM_pro, DPM_pro, KP_pro, XPD_pro]\n",
    "#         }\n",
    "\n",
    "data = {\n",
    "    'Feature' : ['GPM', 'VSPM', 'DPM', 'KP', 'XPD'],\n",
    "    'username' : [0.5, 0.5, 0.5, 0.5, 0.5],\n",
    "    'similar_player' : [0.45, 0.55, 0.47, 0.53, 0.52]\n",
    "}\n",
    "progammer_name = 'Doran'\n",
    "\n",
    "\n",
    "# username = [0.5, 0.5, 0.5, 0.5, 0.5]\n",
    "# similar_player = [0.45, 0.55, 0.47, 0.53, 0.52]\n",
    "\n",
    "import numpy as np\n",
    "import pandas as pd\n",
    "\n",
    "def which_feature_similar(data, interval=0.03, min_count=2):\n",
    "    return_texts = []\n",
    "    \n",
    "    # 프로 선수와 유저와 수치 차이의 절대값\n",
    "    np_user = np.array(data['username'])\n",
    "    np_pro = np.array(data['similar_player'])\n",
    "\n",
    "    np_diff = np.abs(np_user - np_pro).round(2)\n",
    "    \n",
    "    # 차이값이 가장 작은 2개의 특성의 인덱스를 가져옵니다.\n",
    "    min_indices = np.argsort(np_diff)[:min_count]\n",
    "    \n",
    "    # 먼저 2개의 특성을 결과에 추가합니다.\n",
    "    for idx in min_indices:\n",
    "        return_texts.append([data['Feature'][idx], np_diff[idx]])\n",
    "    \n",
    "    # interval보다 차이가 작은 추가 특성을 찾습니다.\n",
    "    for idx, diff_value in enumerate(np_diff):\n",
    "        if diff_value <= interval and idx not in min_indices:\n",
    "            return_texts.append([data['Feature'][idx], diff_value])\n",
    "\n",
    "    return return_texts\n",
    "\n",
    "which_feature_similar(data)"
   ]
  },
  {
   "cell_type": "code",
   "execution_count": 42,
   "metadata": {},
   "outputs": [
    {
     "data": {
      "text/plain": [
       "[('DPM', 1.11), ('KP', 0.86)]"
      ]
     },
     "execution_count": 42,
     "metadata": {},
     "output_type": "execute_result"
    }
   ],
   "source": [
    "data = {\n",
    "    'Feature' : ['GPM', 'VSPM', 'DPM', 'KP', 'XPD'],\n",
    "    'username' : [1.05, 0.97, 1.11, 0.86, 1.02],\n",
    "    'similar_player' : [0.45, 0.55, 0.47, 0.53, 0.52]\n",
    "}\n",
    "\n",
    "def min_max_feature(data):\n",
    "    np_user = np.array(data['username'])\n",
    "    \n",
    "    max_feature = (data['Feature'][np.argmax(np_user)], np.max(np_user))\n",
    "    min_feature = (data['Feature'][np.argmin(np_user)], np.min(np_user))\n",
    "    return [max_feature, min_feature]\n",
    "\n",
    "min_max_feature(data)"
   ]
  },
  {
   "cell_type": "code",
   "execution_count": null,
   "metadata": {},
   "outputs": [],
   "source": []
  }
 ],
 "metadata": {
  "kernelspec": {
   "display_name": "base",
   "language": "python",
   "name": "python3"
  },
  "language_info": {
   "codemirror_mode": {
    "name": "ipython",
    "version": 3
   },
   "file_extension": ".py",
   "mimetype": "text/x-python",
   "name": "python",
   "nbconvert_exporter": "python",
   "pygments_lexer": "ipython3",
   "version": "3.9.13"
  },
  "orig_nbformat": 4
 },
 "nbformat": 4,
 "nbformat_minor": 2
}
