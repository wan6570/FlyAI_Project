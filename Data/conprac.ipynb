{
 "cells": [
  {
   "cell_type": "code",
   "execution_count": 2,
   "metadata": {},
   "outputs": [],
   "source": [
    "import pymysql\n",
    "\n",
    "# MySQL 연결 정보 설정\n",
    "hostname='cdymysql.mysql.database.azure.com'\n",
    "username='minseok'\n",
    "password='1234!@#$'\n",
    "database='testdb'\n",
    "\n",
    "# MySQL 데이터베이스 연결\n",
    "connection = pymysql.connect(user=username, password=password, host=hostname, port=3306, database=database, ssl_ca=\"DigiCertGlobalRootCA.crt.pem\", ssl_disabled=False)\n",
    "# 커서 생성\n",
    "cursor = connection.cursor()"
   ]
  },
  {
   "cell_type": "code",
   "execution_count": 3,
   "metadata": {},
   "outputs": [
    {
     "name": "stdout",
     "output_type": "stream",
     "text": [
      "('2Trick', None, None, None, None, None)\n",
      "('Aiming', 'Logitech G903 HERO', 'Cosair MM700 RGB', 'Logitech G512', None, None)\n",
      "('Bdd', 'Logitech G903 HERO', 'Logitech G640', 'Logitech G Pro X Keyboard', 'ASTRO A50', 'ASUS ROG SWIFT PG258Q')\n",
      "('BeryL', 'Logitech G403 HERO', None, 'Logitech G512', None, None)\n",
      "('Bulldog', 'Logitech G Pro Wireless', 'Razer Gigantus V2 XXL', 'Logitech G Pro X Keyboard', None, None)\n",
      "('Burdol', 'Logitech G Pro WIRELESS', 'Logitech G640', 'Razer Blackwidow', None, None)\n",
      "('Callme', None, None, None, None, None)\n",
      "('Canna', 'Logitech G Pro', 'Steelseries QCK', 'Varmilo VA108', None, None)\n",
      "('Canyon', 'Logitech G Pro', None, 'Logitech G512', 'ASTRO A50', 'ASUS TUF VG259QM')\n",
      "('Chovy', 'Logitech G Pro WIRELESS', 'Artisan pad', 'Corsair K70 MK2 SE', None, None)\n"
     ]
    }
   ],
   "source": [
    "select_query = \"SELECT * FROM equip LIMIT 10;\"\n",
    "cursor.execute(select_query)\n",
    "\n",
    "# 결과 가져오기\n",
    "result = cursor.fetchall()\n",
    "\n",
    "# 결과 출력\n",
    "for row in result:\n",
    "    print(row)\n",
    "\n"
   ]
  },
  {
   "cell_type": "code",
   "execution_count": null,
   "metadata": {},
   "outputs": [],
   "source": []
  }
 ],
 "metadata": {
  "kernelspec": {
   "display_name": "base",
   "language": "python",
   "name": "python3"
  },
  "language_info": {
   "codemirror_mode": {
    "name": "ipython",
    "version": 3
   },
   "file_extension": ".py",
   "mimetype": "text/x-python",
   "name": "python",
   "nbconvert_exporter": "python",
   "pygments_lexer": "ipython3",
   "version": "3.10.9"
  },
  "orig_nbformat": 4
 },
 "nbformat": 4,
 "nbformat_minor": 2
}
