{
 "cells": [
  {
   "cell_type": "code",
   "execution_count": 250,
   "metadata": {},
   "outputs": [],
   "source": [
    "import pandas as pd\n",
    "import numpy as np"
   ]
  },
  {
   "cell_type": "markdown",
   "metadata": {},
   "source": [
    "# 선수 경기 데이터"
   ]
  },
  {
   "cell_type": "markdown",
   "metadata": {},
   "source": [
    "## 데이터 전처리"
   ]
  },
  {
   "cell_type": "code",
   "execution_count": 251,
   "metadata": {},
   "outputs": [],
   "source": [
    "df=pd.read_csv(\"C:\\\\Users\\\\066\\\\Desktop\\\\FlyAI_Project\\\\Data\\\\RawData\\\\LCK_2023_SUMMER.csv\")"
   ]
  },
  {
   "cell_type": "code",
   "execution_count": 252,
   "metadata": {},
   "outputs": [],
   "source": [
    "#경기 번호 추가\n",
    "new_column_values = []\n",
    "for i in range(len(df)):\n",
    "    value = (i // 10) + 1  # 5개씩 끊어서 1, 2, 3으로 적용\n",
    "    new_column_values.append(value)\n",
    "\n",
    "df['gameidx'] = new_column_values\n",
    "\n",
    "last_column = df.pop(df.columns[-1])  # 마지막 열 추출\n",
    "df.insert(0, last_column.name, last_column) #마지막 열 제일 앞으로"
   ]
  },
  {
   "cell_type": "code",
   "execution_count": 253,
   "metadata": {},
   "outputs": [],
   "source": [
    "df.insert(8, 'KDA 0.5', (df['Kills']+df['Assists'])/(df['Deaths']+0.5)) #KDA값 변경\n",
    "df=df.drop(['KDA','Solo kills','Shutdown bounty collected','Shutdown bounty lost'],axis=1) #안쓰는 열 드롭\n",
    "\n",
    "#컬럼명 변경\n",
    "col_list=['gameidx']\n",
    "username=''\n",
    "with open('C:\\\\Users\\\\066\\\\Desktop\\\\FlyAI_Project\\\\API\\\\LeagueofLegends\\\\APIcols.txt', 'r', encoding='utf-8') as file:\n",
    "    for line in file:\n",
    "        col_list.append(line.strip())\n",
    "df.columns=col_list\n"
   ]
  },
  {
   "cell_type": "code",
   "execution_count": 254,
   "metadata": {},
   "outputs": [],
   "source": [
    "#결측치 처리\n",
    "df=df.dropna(subset=['totalMinionsKilled','visionScore'])\n",
    "df=df.fillna(0)"
   ]
  },
  {
   "cell_type": "markdown",
   "metadata": {},
   "source": [
    "## 데이터 넣기"
   ]
  },
  {
   "cell_type": "code",
   "execution_count": 255,
   "metadata": {},
   "outputs": [],
   "source": [
    "import pymysql\n",
    "\n",
    "# MySQL 연결 정보 설정\n",
    "hostname='cdymysql.mysql.database.azure.com'\n",
    "username='cdy'\n",
    "password='Pa12341234!@#$'\n",
    "database='testdb'\n",
    "\n",
    "# MySQL 데이터베이스 연결\n",
    "connection = pymysql.connect(user=username, password=password, host=hostname, port=3306, database=database, ssl_ca=\"DigiCertGlobalRootCA.crt.pem\", ssl_disabled=False)\n",
    "# 커서 생성\n",
    "cursor = connection.cursor()\n",
    "\n"
   ]
  },
  {
   "cell_type": "code",
   "execution_count": 256,
   "metadata": {},
   "outputs": [
    {
     "name": "stdout",
     "output_type": "stream",
     "text": [
      "CREATE TABLE summer (`gameidx` INT, `Player` VARCHAR(255), `championName` VARCHAR(255), `teamPosition` VARCHAR(255), `champLevel` INT, `kills` INT, `deaths` INT, `assists` INT, `KDA 0.5` FLOAT, `totalMinionsKilled` INT, `totalAllyJungleMinionsKilled` FLOAT, `totalEnemyJungleMinionsKilled` FLOAT, `CSM` FLOAT, `goldEarned` INT, `GPM` INT, `GOLD ratio` VARCHAR(255), `visionScore` FLOAT, `wardsPlaced` FLOAT, `wardsKilled` FLOAT, `visionWardsBoughtInGame` FLOAT, `detectorWardsPlaced` INT, `VSPM` FLOAT, `WPM` FLOAT, `VWPM` FLOAT, `WCPM` FLOAT, `VS ratio` VARCHAR(255), `totalDamageDealtToChampions` INT, `physicalDamageDealtToChampions` INT, `magicDamageDealtToChampions` INT, `trueDamageDealtToChampions` INT, `DPM` INT, `DMG ratio` VARCHAR(255), `K+A Per Minute` FLOAT, `KP ratio` VARCHAR(255), `doubleKills` FLOAT, `tripleKills` FLOAT, `quadraKills` FLOAT, `pentaKills` FLOAT, `GD@15` FLOAT, `CSD@15` FLOAT, `XPD@15` FLOAT, `LVLD@15` FLOAT, `objectivesStolen` INT, `damageDealtToTurrets` FLOAT, `damageDealtToBuildings` INT, `totalHeal` FLOAT, `totalHealsOnTeammates` INT, `damageSelfMitigated` FLOAT, `totalDamageShieldedOnTeammates` INT, `timeCCingOthers` FLOAT, `totalTimeCCDealt` INT, `trueDamageTaken` FLOAT, `totalTimeSpentDead` INT, `consumablesPurchased` INT, `itemsPurchased` INT, PRIMARY KEY (gameidx, Player))\n"
     ]
    },
    {
     "data": {
      "text/plain": [
       "0"
      ]
     },
     "execution_count": 256,
     "metadata": {},
     "output_type": "execute_result"
    }
   ],
   "source": [
    "# 테이블 컬럼 데이터 생성 및 테이블 생성 쿼리\n",
    "table_name='summer'\n",
    "create_table_query = f\"CREATE TABLE {table_name} (\"\n",
    "\n",
    "for col_name, col_dtype in zip(df.columns, df.dtypes):\n",
    "    if col_dtype == np.int64:\n",
    "        mysql_dtype = \"INT\"\n",
    "    elif col_dtype == np.float64:\n",
    "        mysql_dtype = \"FLOAT\"\n",
    "    else:\n",
    "        mysql_dtype = \"VARCHAR(255)\"\n",
    "    create_table_query += f\"`{col_name}` {mysql_dtype}, \"\n",
    "\n",
    "create_table_query = create_table_query.rstrip(', ') + \", PRIMARY KEY (gameidx, Player))\"\n",
    "print(create_table_query)\n",
    "cursor.execute(create_table_query)"
   ]
  },
  {
   "cell_type": "code",
   "execution_count": 257,
   "metadata": {},
   "outputs": [
    {
     "name": "stdout",
     "output_type": "stream",
     "text": [
      "INSERT INTO summer (`gameidx`, `Player`, `championName`, `teamPosition`, `champLevel`, `kills`, `deaths`, `assists`, `KDA 0.5`, `totalMinionsKilled`, `totalAllyJungleMinionsKilled`, `totalEnemyJungleMinionsKilled`, `CSM`, `goldEarned`, `GPM`, `GOLD ratio`, `visionScore`, `wardsPlaced`, `wardsKilled`, `visionWardsBoughtInGame`, `detectorWardsPlaced`, `VSPM`, `WPM`, `VWPM`, `WCPM`, `VS ratio`, `totalDamageDealtToChampions`, `physicalDamageDealtToChampions`, `magicDamageDealtToChampions`, `trueDamageDealtToChampions`, `DPM`, `DMG ratio`, `K+A Per Minute`, `KP ratio`, `doubleKills`, `tripleKills`, `quadraKills`, `pentaKills`, `GD@15`, `CSD@15`, `XPD@15`, `LVLD@15`, `objectivesStolen`, `damageDealtToTurrets`, `damageDealtToBuildings`, `totalHeal`, `totalHealsOnTeammates`, `damageSelfMitigated`, `totalDamageShieldedOnTeammates`, `timeCCingOthers`, `totalTimeCCDealt`, `trueDamageTaken`, `totalTimeSpentDead`, `consumablesPurchased`, `itemsPurchased`) VALUES (%s, %s, %s, %s, %s, %s, %s, %s, %s, %s, %s, %s, %s, %s, %s, %s, %s, %s, %s, %s, %s, %s, %s, %s, %s, %s, %s, %s, %s, %s, %s, %s, %s, %s, %s, %s, %s, %s, %s, %s, %s, %s, %s, %s, %s, %s, %s, %s, %s, %s, %s, %s, %s, %s, %s)\n"
     ]
    }
   ],
   "source": [
    "# 데이터프레임 데이터를 테이블에 삽입\n",
    "insert_query = f\"INSERT INTO {table_name} (`{'`, `'.join(df.columns)}`) VALUES ({', '.join(['%s']*len(df.columns))})\"\n",
    "values = df.values.tolist()\n",
    "values_tuple = [tuple(row) for row in values]\n",
    "print(insert_query)\n",
    "cursor.executemany(insert_query, values_tuple)  # 여기서 values 전체를 전달해야 합니다\n",
    "#cursor.execute(insert_query,values[0])\n",
    "# 변경사항을 커밋하여 저장\n",
    "connection.commit()\n",
    "\n",
    "# 연결 종료\n",
    "#cursor.close()\n",
    "#connection.close()"
   ]
  },
  {
   "cell_type": "markdown",
   "metadata": {},
   "source": [
    "# 장비데이터"
   ]
  },
  {
   "cell_type": "markdown",
   "metadata": {},
   "source": [
    "##데이터 전처리"
   ]
  },
  {
   "cell_type": "code",
   "execution_count": 258,
   "metadata": {},
   "outputs": [],
   "source": [
    "df=pd.read_csv(\"C:\\\\Users\\\\066\\\\Desktop\\\\FlyAI_Project\\\\Data\\\\RawData\\\\Equipment - Equipment.csv\")\n",
    "\n",
    "df=df[['Player','Mouse','Mousepad','Keyboard','Headset','Monitor']]\n",
    "df = df.where(pd.notnull(df), None) #결측치 이름 변경"
   ]
  },
  {
   "cell_type": "code",
   "execution_count": 259,
   "metadata": {},
   "outputs": [
    {
     "name": "stdout",
     "output_type": "stream",
     "text": [
      "CREATE TABLE equip (`Player` VARCHAR(255), `Mouse` VARCHAR(255), `Mousepad` VARCHAR(255), `Keyboard` VARCHAR(255), `Headset` VARCHAR(255), `Monitor` VARCHAR(255), PRIMARY KEY (Player))\n"
     ]
    },
    {
     "data": {
      "text/plain": [
       "0"
      ]
     },
     "execution_count": 259,
     "metadata": {},
     "output_type": "execute_result"
    }
   ],
   "source": [
    "table_name='equip'\n",
    "create_table_query = f\"CREATE TABLE {table_name} (\"\n",
    "\n",
    "for col_name, col_dtype in zip(df.columns, df.dtypes):\n",
    "    if col_dtype == np.int64:\n",
    "        mysql_dtype = \"INT\"\n",
    "    elif col_dtype == np.float64:\n",
    "        mysql_dtype = \"FLOAT\"\n",
    "    else:\n",
    "        mysql_dtype = \"VARCHAR(255)\"\n",
    "    create_table_query += f\"`{col_name}` {mysql_dtype}, \"\n",
    "\n",
    "create_table_query = create_table_query.rstrip(', ') + \", PRIMARY KEY (Player))\"\n",
    "print(create_table_query)\n",
    "cursor.execute(create_table_query)"
   ]
  },
  {
   "cell_type": "code",
   "execution_count": 260,
   "metadata": {},
   "outputs": [],
   "source": [
    "# 데이터프레임 데이터를 테이블에 삽입\n",
    "insert_query = f\"INSERT INTO {table_name} ({', '.join(df.columns)}) VALUES ({', '.join(['%s']*len(df.columns))})\"\n",
    "values = df.values.tolist()\n",
    "values_tuple = [tuple(row) for row in values]\n",
    "cursor.executemany(insert_query, values_tuple)  # 여기서 values 전체를 전달해야 합니다\n",
    "#cursor.execute(insert_query,values[0])\n",
    "# 변경사항을 커밋하여 저장\n",
    "connection.commit()\n",
    "\n",
    "# 연결 종료\n",
    "cursor.close()\n",
    "connection.close()"
   ]
  },
  {
   "cell_type": "code",
   "execution_count": null,
   "metadata": {},
   "outputs": [],
   "source": []
  }
 ],
 "metadata": {
  "kernelspec": {
   "display_name": "Python 3",
   "language": "python",
   "name": "python3"
  },
  "language_info": {
   "codemirror_mode": {
    "name": "ipython",
    "version": 3
   },
   "file_extension": ".py",
   "mimetype": "text/x-python",
   "name": "python",
   "nbconvert_exporter": "python",
   "pygments_lexer": "ipython3",
   "version": "3.10.9"
  },
  "orig_nbformat": 4
 },
 "nbformat": 4,
 "nbformat_minor": 2
}
