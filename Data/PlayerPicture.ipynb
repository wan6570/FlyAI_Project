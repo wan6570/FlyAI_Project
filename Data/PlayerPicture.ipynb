{
 "cells": [
  {
   "cell_type": "code",
   "execution_count": 6,
   "metadata": {},
   "outputs": [],
   "source": [
    "import pymysql\n",
    "import mysql.connector\n",
    "\n",
    "# MySQL 연결 정보 설정\n",
    "hostname='minseok.mysql.database.azure.com'\n",
    "username='jongwan'\n",
    "password='1234!@#$'\n",
    "database='project'\n",
    "\n",
    "# MySQL 데이터베이스 연결\n",
    "connection = pymysql.connect(user=username, password=password, host=hostname, port=3306, database=database, ssl_ca=\"DigiCertGlobalRootCA.crt.pem\", ssl_disabled=False)\n",
    "# 커서 생성\n",
    "cursor = connection.cursor()"
   ]
  },
  {
   "cell_type": "markdown",
   "metadata": {},
   "source": []
  },
  {
   "cell_type": "code",
   "execution_count": 7,
   "metadata": {},
   "outputs": [],
   "source": [
    "import os\n",
    "import fnmatch\n",
    "import mysql.connector\n",
    "\n",
    "folder_path = \"선수사진\"\n",
    "file_list = os.listdir(folder_path)\n",
    "\n",
    "image_files = [os.path.join(folder_path, file) for file in os.listdir(folder_path) if fnmatch.fnmatch(file, '*.png')]\n",
    "\n",
    "for image_file in image_files:\n",
    "    # 이미지 파일 읽기\n",
    "    with open(image_file, \"rb\") as f:\n",
    "        binary_data = f.read()\n",
    "\n",
    "    # 확장자 제거\n",
    "    base_name = os.path.basename(image_file)\n",
    "    name_without_extension, _ = os.path.splitext(base_name)\n",
    "\n",
    "    # 이미지 데이터 저장\n",
    "    insert_query = \"INSERT INTO playerimages (filename, image_data) VALUES (%s, %s)\"\n",
    "    cursor.execute(insert_query, (name_without_extension, binary_data))\n",
    "\n",
    "connection.commit()\n",
    "cursor.close()\n",
    "connection.close()"
   ]
  },
  {
   "cell_type": "code",
   "execution_count": null,
   "metadata": {},
   "outputs": [],
   "source": []
  }
 ],
 "metadata": {
  "kernelspec": {
   "display_name": "base",
   "language": "python",
   "name": "python3"
  },
  "language_info": {
   "codemirror_mode": {
    "name": "ipython",
    "version": 3
   },
   "file_extension": ".py",
   "mimetype": "text/x-python",
   "name": "python",
   "nbconvert_exporter": "python",
   "pygments_lexer": "ipython3",
   "version": "3.9.13"
  },
  "orig_nbformat": 4
 },
 "nbformat": 4,
 "nbformat_minor": 2
}
