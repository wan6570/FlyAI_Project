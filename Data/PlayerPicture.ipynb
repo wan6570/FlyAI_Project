{
 "cells": [
  {
   "cell_type": "code",
   "execution_count": 2,
   "metadata": {},
   "outputs": [],
   "source": [
    "import pymysql\n",
    "\n",
    "# MySQL 연결 정보 설정\n",
    "hostname='minseok.mysql.database.azure.com'\n",
    "username='jongwan'\n",
    "password='1234!@#$'\n",
    "database='project'\n",
    "\n",
    "# MySQL 데이터베이스 연결\n",
    "connection = pymysql.connect(user=username, password=password, host=hostname, port=3306, database=database, ssl_ca=\"DigiCertGlobalRootCA.crt.pem\", ssl_disabled=False)\n",
    "# 커서 생성\n",
    "cursor = connection.cursor()"
   ]
  },
  {
   "cell_type": "code",
   "execution_count": 5,
   "metadata": {},
   "outputs": [
    {
     "ename": "ModuleNotFoundError",
     "evalue": "No module named 'mysql'",
     "output_type": "error",
     "traceback": [
      "\u001b[1;31m---------------------------------------------------------------------------\u001b[0m",
      "\u001b[1;31mModuleNotFoundError\u001b[0m                       Traceback (most recent call last)",
      "Cell \u001b[1;32mIn[5], line 3\u001b[0m\n\u001b[0;32m      1\u001b[0m \u001b[39mimport\u001b[39;00m \u001b[39mos\u001b[39;00m\n\u001b[0;32m      2\u001b[0m \u001b[39mimport\u001b[39;00m \u001b[39mfnmatch\u001b[39;00m\n\u001b[1;32m----> 3\u001b[0m \u001b[39mimport\u001b[39;00m \u001b[39mmysql\u001b[39;00m\u001b[39m.\u001b[39;00m\u001b[39mconnector\u001b[39;00m\n\u001b[0;32m      6\u001b[0m folder_path \u001b[39m=\u001b[39m \u001b[39m\"\u001b[39m\u001b[39m선수사진\u001b[39m\u001b[39m\"\u001b[39m\n\u001b[0;32m      7\u001b[0m file_list \u001b[39m=\u001b[39m os\u001b[39m.\u001b[39mlistdir(folder_path)\n",
      "\u001b[1;31mModuleNotFoundError\u001b[0m: No module named 'mysql'"
     ]
    }
   ],
   "source": [
    "import os\n",
    "import fnmatch\n",
    "import mysql.connector\n",
    "\n",
    "\n",
    "folder_path = \"선수사진\"\n",
    "file_list = os.listdir(folder_path)\n",
    "\n",
    "image_files = [os.path.join(folder_path, file) for file in os.listdir(folder_path) if fnmatch.fnmatch(file, '*.png')]\n",
    "\n",
    "for image_file in image_files:\n",
    "    # 이미지 파일 읽기\n",
    "    with open(image_file, \"rb\") as f:\n",
    "        binary_data = f.read()\n",
    "\n",
    "    # 이미지 데이터 저장\n",
    "    insert_query = \"INSERT INTO images (filename, image_data) VALUES (%s, %s)\"\n",
    "    cursor.execute(insert_query, (os.path.basename(image_file), binary_data))\n",
    "\n",
    "conn.commit()\n",
    "cursor.close()\n",
    "conn.close()"
   ]
  },
  {
   "cell_type": "code",
   "execution_count": null,
   "metadata": {},
   "outputs": [],
   "source": []
  }
 ],
 "metadata": {
  "kernelspec": {
   "display_name": "base",
   "language": "python",
   "name": "python3"
  },
  "language_info": {
   "codemirror_mode": {
    "name": "ipython",
    "version": 3
   },
   "file_extension": ".py",
   "mimetype": "text/x-python",
   "name": "python",
   "nbconvert_exporter": "python",
   "pygments_lexer": "ipython3",
   "version": "3.9.13"
  },
  "orig_nbformat": 4
 },
 "nbformat": 4,
 "nbformat_minor": 2
}
