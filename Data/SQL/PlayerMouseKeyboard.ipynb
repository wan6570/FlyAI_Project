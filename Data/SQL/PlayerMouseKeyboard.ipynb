{
 "cells": [
  {
   "cell_type": "code",
   "execution_count": 19,
   "metadata": {},
   "outputs": [],
   "source": [
    "import pymysql\n",
    "import mysql.connector\n",
    "\n",
    "# MySQL 연결 정보 설정\n",
    "hostname='minseok.mysql.database.azure.com'\n",
    "username='jongwan'\n",
    "password='1234!@#$'\n",
    "database='project'\n",
    "\n",
    "# MySQL 데이터베이스 연결\n",
    "connection = pymysql.connect(user=username, password=password, host=hostname, port=3306, database=database, ssl_ca=\"DigiCertGlobalRootCA.crt.pem\", ssl_disabled=False)\n",
    "# 커서 생성\n",
    "cursor = connection.cursor()"
   ]
  },
  {
   "cell_type": "code",
   "execution_count": 26,
   "metadata": {},
   "outputs": [],
   "source": [
    "import os\n",
    "import fnmatch\n",
    "import mysql.connector\n",
    "from PIL import Image\n",
    "\n",
    "\n",
    "folder_path = \"선수장비\"\n",
    "file_list = os.listdir(folder_path)\n",
    "\n",
    "# 해당 폴더 내의 모든 PNG 파일 가져오기\n",
    "image_files = [os.path.join(folder_path, file) for file in os.listdir(folder_path) if fnmatch.fnmatch(file, '*.jpg')]\n",
    "\n",
    "output_folder = os.path.join(folder_path, \"resized_images\")\n",
    "os.makedirs(output_folder, exist_ok=True)\n",
    "\n",
    "# 원하는 이미지의 크기\n",
    "desired_size = (200, 200)  # 예: 200x200 픽셀\n",
    "\n",
    "for image_file in image_files:\n",
    "    # 이미지 파일 읽기 및 크기 조정\n",
    "    with Image.open(image_file) as img:\n",
    "        img_resized = img.resize(desired_size)\n",
    "        \n",
    "        # 바이너리 데이터로 변환\n",
    "        with open(image_file, \"wb\") as f:\n",
    "            img_resized.save(f, format=\"PNG\")\n",
    "\n",
    "    with open(image_file, \"rb\") as f:\n",
    "        binary_data = f.read()\n",
    "\n",
    "\n",
    "\n",
    "    # 확장자 제거\n",
    "    base_name = os.path.basename(image_file)\n",
    "    name_without_extension, _ = os.path.splitext(base_name)\n",
    "\n",
    "    # 이미지 데이터 저장\n",
    "    insert_query = \"INSERT INTO gaming_gear_images (filename, image_data) VALUES (%s, %s)\"\n",
    "    cursor.execute(insert_query, (name_without_extension, binary_data))\n",
    "\n",
    "connection.commit()\n",
    "cursor.close()\n",
    "connection.close()\n"
   ]
  },
  {
   "cell_type": "code",
   "execution_count": 14,
   "metadata": {},
   "outputs": [
    {
     "ename": "UnidentifiedImageError",
     "evalue": "cannot identify image file '선수장비/Abko A660 3360.jpg'",
     "output_type": "error",
     "traceback": [
      "\u001b[1;31m---------------------------------------------------------------------------\u001b[0m",
      "\u001b[1;31mUnidentifiedImageError\u001b[0m                    Traceback (most recent call last)",
      "Cell \u001b[1;32mIn[14], line 1\u001b[0m\n\u001b[1;32m----> 1\u001b[0m Image\u001b[39m.\u001b[39;49mopen(\u001b[39m'\u001b[39;49m\u001b[39m선수장비/Abko A660 3360.jpg\u001b[39;49m\u001b[39m'\u001b[39;49m)\n",
      "File \u001b[1;32mc:\\Users\\jongwan\\anaconda3\\lib\\site-packages\\PIL\\Image.py:3283\u001b[0m, in \u001b[0;36mopen\u001b[1;34m(fp, mode, formats)\u001b[0m\n\u001b[0;32m   3281\u001b[0m     warnings\u001b[39m.\u001b[39mwarn(message)\n\u001b[0;32m   3282\u001b[0m msg \u001b[39m=\u001b[39m \u001b[39m\"\u001b[39m\u001b[39mcannot identify image file \u001b[39m\u001b[39m%r\u001b[39;00m\u001b[39m\"\u001b[39m \u001b[39m%\u001b[39m (filename \u001b[39mif\u001b[39;00m filename \u001b[39melse\u001b[39;00m fp)\n\u001b[1;32m-> 3283\u001b[0m \u001b[39mraise\u001b[39;00m UnidentifiedImageError(msg)\n",
      "\u001b[1;31mUnidentifiedImageError\u001b[0m: cannot identify image file '선수장비/Abko A660 3360.jpg'"
     ]
    }
   ],
   "source": [
    "Image.open('선수장비/Abko A660 3360.jpg')"
   ]
  },
  {
   "cell_type": "code",
   "execution_count": null,
   "metadata": {},
   "outputs": [],
   "source": []
  }
 ],
 "metadata": {
  "kernelspec": {
   "display_name": "base",
   "language": "python",
   "name": "python3"
  },
  "language_info": {
   "codemirror_mode": {
    "name": "ipython",
    "version": 3
   },
   "file_extension": ".py",
   "mimetype": "text/x-python",
   "name": "python",
   "nbconvert_exporter": "python",
   "pygments_lexer": "ipython3",
   "version": "3.9.13"
  },
  "orig_nbformat": 4
 },
 "nbformat": 4,
 "nbformat_minor": 2
}
