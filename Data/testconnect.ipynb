{
 "cells": [
  {
   "cell_type": "code",
   "execution_count": 6,
   "metadata": {},
   "outputs": [],
   "source": [
    "import pymysql\n",
    "\n",
    "# MySQL 연결 정보 설정\n",
    "hostname='cdymysql.mysql.database.azure.com'\n",
    "username={유저네임}\n",
    "password={비밀번호}\n",
    "database='testdb'\n",
    "\n",
    "# MySQL 데이터베이스 연결\n",
    "connection = pymysql.connect(user=username, password=password, host=hostname, port=3306, database=database, ssl_ca=\"DigiCertGlobalRootCA.crt.pem\", ssl_disabled=False)\n",
    "# 커서 생성\n",
    "cursor = connection.cursor()\n"
   ]
  }
 ],
 "metadata": {
  "kernelspec": {
   "display_name": "base",
   "language": "python",
   "name": "python3"
  },
  "language_info": {
   "codemirror_mode": {
    "name": "ipython",
    "version": 3
   },
   "file_extension": ".py",
   "mimetype": "text/x-python",
   "name": "python",
   "nbconvert_exporter": "python",
   "pygments_lexer": "ipython3",
   "version": "3.10.9"
  },
  "orig_nbformat": 4
 },
 "nbformat": 4,
 "nbformat_minor": 2
}
