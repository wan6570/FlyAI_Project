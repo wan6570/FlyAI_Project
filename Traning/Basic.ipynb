{
 "cells": [
  {
   "cell_type": "code",
   "execution_count": 1,
   "metadata": {},
   "outputs": [],
   "source": [
    "import pandas as pd\n",
    "\n",
    "data =pd.read_csv('../Data/ProcessedData/LCK_2023_SUMMER_DROP_NAN.csv')"
   ]
  },
  {
   "cell_type": "code",
   "execution_count": 2,
   "metadata": {},
   "outputs": [
    {
     "data": {
      "text/plain": [
       "{'TOP': 12, 'JUNGLE': 13, 'MID': 15, 'ADC': 13, 'SUPPORT': 13}"
      ]
     },
     "execution_count": 2,
     "metadata": {},
     "output_type": "execute_result"
    }
   ],
   "source": [
    "roles = data['Role'].unique()\n",
    "role_data = {role: data[data['Role'] == role] for role in roles}\n",
    "\n",
    "player_counts_by_role = {role: df['Player'].nunique() for role, df in role_data.items()}\n",
    "\n",
    "player_counts_by_role"
   ]
  },
  {
   "cell_type": "code",
   "execution_count": 11,
   "metadata": {},
   "outputs": [],
   "source": [
    "player_value = data['Player'].value_counts()\n",
    "\n",
    "players_to_exclude = player_value[player_value < 20].index\n",
    "filtered_data = data[~data['Player'].isin(players_to_exclude)]\n",
    "\n",
    "filtered_data.to_csv('LCK_2023_SUMMER_FILTERED.csv', index=False, encoding='utf-8-sig')"
   ]
  },
  {
   "cell_type": "code",
   "execution_count": 5,
   "metadata": {},
   "outputs": [
    {
     "data": {
      "text/plain": [
       "{'TOP': 10, 'JUNGLE': 10, 'MID': 10, 'ADC': 10, 'SUPPORT': 10}"
      ]
     },
     "execution_count": 5,
     "metadata": {},
     "output_type": "execute_result"
    }
   ],
   "source": [
    "roles = filtered_data['Role'].unique()\n",
    "role_data = {role: filtered_data[filtered_data['Role'] == role] for role in roles}\n",
    "\n",
    "player_counts_by_role = {role: df['Player'].nunique() for role, df in role_data.items()}\n",
    "\n",
    "player_counts_by_role"
   ]
  },
  {
   "cell_type": "code",
   "execution_count": 17,
   "metadata": {},
   "outputs": [
    {
     "data": {
      "text/plain": [
       "Index(['Player', 'Champion', 'Role', 'Level', 'Kills', 'Deaths', 'Assists',\n",
       "       'KDA', 'CS', 'CS in Jungle', 'CSM', 'Golds', 'GPM', 'GOLD%',\n",
       "       'Vision Score', 'Wards placed', 'Wards destroyed',\n",
       "       'Control Wards Purchased', 'Detector Wards Placed', 'VSPM', 'WPM',\n",
       "       'VWPM', 'WCPM', 'VS%', 'Total damage to Champion', 'Physical Damage',\n",
       "       'Magic Damage', 'True Damage', 'DPM', 'DMG%', 'K+A Per Minute', 'KP%',\n",
       "       'Solo kills', 'Double kills', 'Triple kills', 'Quadra kills',\n",
       "       'Penta kills', 'GD@15', 'CSD@15', 'XPD@15', 'LVLD@15',\n",
       "       'Objectives Stolen', 'Damage dealt to turrets',\n",
       "       'Damage dealt to buildings', 'Total heal', 'Total Heals On Teammates',\n",
       "       'Damage self mitigated', 'Total Damage Shielded On Teammates',\n",
       "       'Time ccing others', 'Total Time CC Dealt', 'Total damage taken',\n",
       "       'Total Time Spent Dead', 'Consumables purchased', 'Items Purchased',\n",
       "       'Shutdown bounty collected', 'Shutdown bounty lost', 'Version', 'Date',\n",
       "       'Team', 'Result'],\n",
       "      dtype='object')"
      ]
     },
     "execution_count": 17,
     "metadata": {},
     "output_type": "execute_result"
    }
   ],
   "source": [
    "filtered_data.columns"
   ]
  },
  {
   "cell_type": "code",
   "execution_count": 16,
   "metadata": {},
   "outputs": [
    {
     "data": {
      "text/plain": [
       "Team       Result\n",
       "BRION      Lose      143\n",
       "           Win        72\n",
       "DRX        Lose      116\n",
       "           Win        72\n",
       "Dplus KIA  Win       111\n",
       "           Lose       73\n",
       "GEN        Win       160\n",
       "           Lose       35\n",
       "HLE        Win       125\n",
       "           Lose       65\n",
       "KDF        Lose      130\n",
       "           Win        42\n",
       "KT         Win       170\n",
       "           Lose       30\n",
       "LSB        Lose      125\n",
       "           Win        54\n",
       "NS         Lose      136\n",
       "           Win        60\n",
       "T1         Win       101\n",
       "           Lose       86\n",
       "Name: Result, dtype: int64"
      ]
     },
     "execution_count": 16,
     "metadata": {},
     "output_type": "execute_result"
    }
   ],
   "source": [
    "filtered_data.groupby('Team')['Result'].value_counts()"
   ]
  },
  {
   "cell_type": "code",
   "execution_count": 10,
   "metadata": {},
   "outputs": [
    {
     "data": {
      "text/plain": [
       "[('TOP', 0.34177215189873417),\n",
       " ('JUNGLE', 0.3026315789473684),\n",
       " ('MID', 0.3055555555555556),\n",
       " ('ADC', 0.2375),\n",
       " ('SUPPORT', 0.15789473684210525)]"
      ]
     },
     "execution_count": 10,
     "metadata": {},
     "output_type": "execute_result"
    }
   ],
   "source": [
    "from sklearn.model_selection import train_test_split\n",
    "from sklearn.ensemble import RandomForestClassifier\n",
    "from sklearn.metrics import accuracy_score, classification_report\n",
    "\n",
    "\n",
    "filtered_role_data = {role: filtered_data[filtered_data['Role'] == role] for role in roles}\n",
    "\n",
    "filtered_results = []\n",
    "\n",
    "for role, df in filtered_role_data.items():\n",
    "    X_role = df.select_dtypes(include=['float64', 'int64'])\n",
    "    y_role = df['Player']\n",
    "\n",
    "    X_train_role, X_test_role, y_train_role, y_test_role = train_test_split(X_role, y_role, test_size=0.2, random_state=42)\n",
    "    \n",
    "    clf_role = RandomForestClassifier(n_estimators=100, random_state=42)\n",
    "    clf_role.fit(X_train_role, y_train_role)\n",
    "    \n",
    "    y_pred_role = clf_role.predict(X_test_role)\n",
    "    accuracy_role = accuracy_score(y_test_role, y_pred_role)\n",
    "\n",
    "    filtered_results.append((role, accuracy_role))\n",
    "\n",
    "filtered_results"
   ]
  },
  {
   "cell_type": "code",
   "execution_count": 20,
   "metadata": {},
   "outputs": [
    {
     "name": "stderr",
     "output_type": "stream",
     "text": [
      "c:\\Users\\wan65\\anaconda3\\lib\\site-packages\\sklearn\\metrics\\_classification.py:1469: UndefinedMetricWarning: Precision and F-score are ill-defined and being set to 0.0 in labels with no predicted samples. Use `zero_division` parameter to control this behavior.\n",
      "  _warn_prf(average, modifier, msg_start, len(result))\n",
      "c:\\Users\\wan65\\anaconda3\\lib\\site-packages\\sklearn\\metrics\\_classification.py:1469: UndefinedMetricWarning: Precision and F-score are ill-defined and being set to 0.0 in labels with no predicted samples. Use `zero_division` parameter to control this behavior.\n",
      "  _warn_prf(average, modifier, msg_start, len(result))\n",
      "c:\\Users\\wan65\\anaconda3\\lib\\site-packages\\sklearn\\metrics\\_classification.py:1469: UndefinedMetricWarning: Precision and F-score are ill-defined and being set to 0.0 in labels with no predicted samples. Use `zero_division` parameter to control this behavior.\n",
      "  _warn_prf(average, modifier, msg_start, len(result))\n"
     ]
    },
    {
     "data": {
      "text/plain": [
       "0.2658536585365854"
      ]
     },
     "execution_count": 20,
     "metadata": {},
     "output_type": "execute_result"
    }
   ],
   "source": [
    "from sklearn.model_selection import train_test_split\n",
    "from sklearn.ensemble import RandomForestClassifier\n",
    "from sklearn.metrics import accuracy_score, classification_report\n",
    "\n",
    "data_numeric = data.select_dtypes(include=['float64', 'int64'])\n",
    "\n",
    "X = data_numeric\n",
    "y = data['Player']\n",
    "\n",
    "X_train, X_test, y_train, y_test = train_test_split(X, y, test_size=0.2, random_state=42)\n",
    "\n",
    "clf = RandomForestClassifier(n_estimators=50, random_state=42)\n",
    "clf.fit(X_train, y_train)\n",
    "\n",
    "y_pred = clf.predict(X_test)\n",
    "accuracy = accuracy_score(y_test, y_pred)\n",
    "report = classification_report(y_test, y_pred)\n",
    "\n",
    "accuracy"
   ]
  },
  {
   "cell_type": "code",
   "execution_count": 21,
   "metadata": {},
   "outputs": [
    {
     "data": {
      "text/plain": [
       "Delight     12\n",
       "Lehends     11\n",
       "Gumayusi    11\n",
       "Keria       11\n",
       "Zeka        11\n",
       "            ..\n",
       "Rahel        2\n",
       "Juhan        2\n",
       "Clid         2\n",
       "Ivory        2\n",
       "Vital        1\n",
       "Name: Player, Length: 61, dtype: int64"
      ]
     },
     "execution_count": 21,
     "metadata": {},
     "output_type": "execute_result"
    }
   ],
   "source": [
    "y_test.value_counts()"
   ]
  },
  {
   "cell_type": "code",
   "execution_count": 23,
   "metadata": {},
   "outputs": [
    {
     "data": {
      "text/plain": [
       "array(['Paduck', 'Peter', 'Willer', 'Kael', 'DnDn', 'Canyon', 'FATE',\n",
       "       'Effort', 'Taeyoon', 'Peter', 'Kiin', 'Peyz', 'Morgan', 'Doran',\n",
       "       'DnDn', 'Clid', 'Hena', 'Delight', 'BeryL', 'Life', 'Doran',\n",
       "       'Oner', 'Rascal', 'Zeus', 'Effort', 'Peanut', 'Hena', 'Deft',\n",
       "       'Kiin', 'Bdd', 'DnDn', 'Karis', 'Morgan', 'Burdol', 'Hena',\n",
       "       'Gumayusi', 'ShowMaker', 'ShowMaker', 'YoungJae', 'Hena',\n",
       "       'Lehends', 'Viper', 'BeryL', 'Delight', 'Aiming', 'Andil', 'Jun',\n",
       "       'Rascal', 'Hena', 'Life', 'Gumayusi', 'Morgan', 'Karis', 'Hena',\n",
       "       'Juhan', 'Cuzz', 'Canna', 'DuDu', 'Doran', 'Life', 'Paduck',\n",
       "       'DnDn', 'Canna', 'Bdd', 'BeryL', 'Morgan', 'Paduck', 'Morgan',\n",
       "       'YoungJae', 'BeryL', 'Kiin', 'DnDn', 'FIESTA', 'Ivory', 'FIESTA',\n",
       "       'Lehends', 'Effort', 'Morgan', 'Kael', 'Chovy', 'BeryL', 'Hena',\n",
       "       'Bulldog', 'YoungJae', 'FATE', 'Bdd', 'Canna', 'Peanut', 'Willer',\n",
       "       'YoungJae', 'Sylvie', 'Willer', 'Bulldog', 'Chovy', 'Zeus',\n",
       "       'Sylvie', 'Willer', 'UmTi', 'Delight', 'Teddy', 'Kael', 'Rascal',\n",
       "       'Bdd', 'Canna', 'Cuzz', 'Deft', 'BeryL', 'Canyon', 'BeryL',\n",
       "       'YoungJae', 'BeryL', 'Croco', 'Paduck', 'UmTi', 'YoungJae',\n",
       "       'Sylvie', 'Bdd', 'Kael', 'Burdol', 'DnDn', 'Juhan', 'Delight',\n",
       "       'Rascal', 'Effort', 'Taeyoon', 'Bdd', 'Deft', 'UmTi', 'Bulldog',\n",
       "       'Taeyoon', 'Chovy', 'Peanut', 'Oner', 'Paduck', 'Peanut', 'FIESTA',\n",
       "       'Effort', 'YoungJae', 'Aiming', 'Burdol', 'UmTi', 'DnDn', 'Bdd',\n",
       "       'Effort', 'Chovy', 'Keria', 'Effort', 'Bdd', 'Doran', 'Delight',\n",
       "       'Aiming', 'Life', 'Andil', 'DnDn', 'Willer', 'BeryL', 'Cuzz',\n",
       "       'Lehends', 'Bdd', 'Morgan', 'Willer', 'Lehends', 'Canna', 'Karis',\n",
       "       'ShowMaker', 'DuDu', 'Lehends', 'FATE', 'Taeyoon', 'Aiming',\n",
       "       'Peter', 'Jiwoo', 'DnDn', 'Faker', 'Grizzly', 'Deft', 'Bulldog',\n",
       "       'Lehends', 'Life', 'Morgan', 'BeryL', 'Bdd', 'Canna', 'UmTi',\n",
       "       'Faker', 'Effort', 'Karis', 'Hena', 'UmTi', 'Canna', 'DuDu',\n",
       "       'FATE', 'Sylvie', 'UmTi', 'Kiin', 'Kiin', 'Chovy', 'Lehends',\n",
       "       'BeryL', 'Sylvie', 'Peanut', 'Teddy', 'DnDn', 'Cuzz', 'BeryL',\n",
       "       'FIESTA', 'Aiming', 'Delight', 'Peter', 'Peyz', 'Taeyoon', 'Chovy',\n",
       "       'Doran', 'Sylvie', 'Morgan', 'Peter', 'Hena', 'Faker', 'Chovy',\n",
       "       'Grizzly', 'Kael', 'Delight', 'BeryL', 'DnDn', 'Lehends', 'Bdd',\n",
       "       'Aiming', 'Morgan', 'Viper', 'Gumayusi', 'Zeka', 'Life', 'Rascal',\n",
       "       'Morgan', 'Kael', 'Rascal', 'UmTi', 'Hena', 'FATE', 'UmTi', 'Deft',\n",
       "       'DnDn', 'FATE', 'Chovy', 'kingen', 'BeryL', 'Andil', 'Kellin',\n",
       "       'Grizzly', 'Canna', 'Morgan', 'Lehends', 'Hena', 'Morgan',\n",
       "       'Peanut', 'Hena', 'FIESTA', 'Morgan', 'Croco', 'Cuzz', 'Oner',\n",
       "       'Effort', 'DuDu', 'Chovy', 'Rascal', 'UmTi', 'Cuzz', 'FATE',\n",
       "       'Life', 'Bdd', 'Hena', 'Doran', 'Kael', 'Canna', 'Life', 'DuDu',\n",
       "       'Hena', 'Bdd', 'Canna', 'Taeyoon', 'DuDu', 'Jiwoo', 'Viper',\n",
       "       'Karis', 'Morgan', 'Andil', 'kingen', 'Keria', 'Willer', 'Paduck',\n",
       "       'Aiming', 'Zeka', 'Hena', 'Bulldog', 'Bdd', 'Delight', 'Delight',\n",
       "       'Bdd', 'ShowMaker', 'ShowMaker', 'Aiming', 'Chovy', 'Bdd',\n",
       "       'Bulldog', 'Oner', 'Morgan', 'Bulldog', 'Gumayusi', 'Kael',\n",
       "       'Canyon', 'Cuzz', 'Teddy', 'FATE', 'Keria', 'Morgan', 'Canyon',\n",
       "       'Viper', 'Morgan', 'Canna', 'DnDn', 'Burdol', 'Taeyoon', 'FIESTA',\n",
       "       'Karis', 'Sylvie', 'Karis', 'Burdol', 'UmTi', 'Kellin', 'Aiming',\n",
       "       'Aiming', 'Kiin', 'DuDu', 'BeryL', 'Sylvie', 'Effort', 'Cuzz',\n",
       "       'Taeyoon', 'Peanut', 'DuDu', 'Rascal', 'Canyon', 'Aiming',\n",
       "       'FIESTA', 'Life', 'Peter', 'Peanut', 'Viper', 'Teddy', 'Morgan',\n",
       "       'Cuzz', 'Sylvie', 'Karis', 'FIESTA', 'Aiming', 'UmTi', 'Delight',\n",
       "       'Paduck', 'Peanut', 'Kiin', 'Deft', 'Paduck', 'Teddy', 'ShowMaker',\n",
       "       'Bdd', 'DnDn', 'YoungJae', 'Kiin', 'Bdd', 'Aiming', 'DuDu',\n",
       "       'Canyon', 'Rascal', 'Kiin', 'Delight', 'Canna', 'BeryL', 'Sylvie',\n",
       "       'Deft', 'Canna', 'Bdd', 'Delight', 'DuDu', 'Jiwoo', 'Kyeahoo',\n",
       "       'Morgan', 'Kael', 'Delight', 'Canna', 'Kael', 'Peanut', 'Effort',\n",
       "       'Kellin', 'kingen', 'DnDn', 'Willer', 'Doran', 'Cuzz', 'Willer',\n",
       "       'Keria', 'Sylvie', 'Effort', 'Zeka', 'Taeyoon', 'FIESTA', 'Sylvie',\n",
       "       'DnDn', 'Kellin', 'Life', 'Bdd'], dtype=object)"
      ]
     },
     "execution_count": 23,
     "metadata": {},
     "output_type": "execute_result"
    }
   ],
   "source": [
    "y_pred"
   ]
  },
  {
   "cell_type": "code",
   "execution_count": 26,
   "metadata": {},
   "outputs": [
    {
     "data": {
      "text/plain": [
       "array(['Peyz', 'Lehends', 'Willer', 'Keria', 'Kyeahoo', 'UmTi', 'Clozer',\n",
       "       'Effort', 'Taeyoon', 'Effort', 'DuDu', 'Peyz', 'Morgan', 'Doran',\n",
       "       'Canna', 'Cuzz', 'Jiwoo', 'Lehends', 'Kael', 'Lehends', 'kingen',\n",
       "       'Oner', 'Kiin', 'DnDn', 'Peter', 'UmTi', 'Paduck', 'Paduck',\n",
       "       'Clear', 'ShowMaker', 'DnDn', 'FATE', 'Poby', 'Burdol', 'Gumayusi',\n",
       "       'Aiming', 'Chovy', 'Poby', 'YoungJae', 'Rahel', 'Life', 'Teddy',\n",
       "       'Keria', 'Delight', 'Karis', 'Andil', 'Keria', 'DuDu', 'Peyz',\n",
       "       'Keria', 'Zeka', 'Clozer', 'Karis', 'FATE', 'Croco', 'Oner',\n",
       "       'Zeka', 'Canna', 'Zeus', 'Life', 'Teddy', 'DnDn', 'Rascal', 'Zeka',\n",
       "       'Keria', 'DuDu', 'Jiwoo', 'kingen', 'Willer', 'Keria', 'Clear',\n",
       "       'Zeus', 'Zeka', 'Teddy', 'Poby', 'Keria', 'Jun', 'Clear', 'Effort',\n",
       "       'Taeyoon', 'Delight', 'Gumayusi', 'Bulldog', 'Clid', 'Taeyoon',\n",
       "       'Karis', 'Doran', 'Peanut', 'Canyon', 'YoungJae', 'Sylvie',\n",
       "       'Willer', 'Bdd', 'Jiwoo', 'Zeka', 'YoungJae', 'Willer', 'Oner',\n",
       "       'Delight', 'Jiwoo', 'Life', 'Canna', 'Bdd', 'Burdol', 'UmTi',\n",
       "       'Paduck', 'Effort', 'Sylvie', 'Delight', 'YoungJae', 'Peter',\n",
       "       'Croco', 'Paduck', 'Grizzly', 'Croco', 'UmTi', 'Bdd', 'Keria',\n",
       "       'Zeka', 'DnDn', 'UmTi', 'Delight', 'Canna', 'Delight', 'Taeyoon',\n",
       "       'Zeka', 'Deft', 'Canyon', 'kingen', 'Rahel', 'Chovy', 'Peanut',\n",
       "       'Clid', 'Gumayusi', 'Peanut', 'Poby', 'Life', 'YoungJae', 'Viper',\n",
       "       'DuDu', 'Croco', 'DnDn', 'FIESTA', 'Kael', 'Chovy', 'Bible',\n",
       "       'Lehends', 'Chovy', 'Kiin', 'Lehends', 'Teddy', 'Keria', 'Peter',\n",
       "       'Zeus', 'YoungJae', 'BeryL', 'Oner', 'Kellin', 'ShowMaker', 'Zeus',\n",
       "       'Willer', 'Peter', 'Bulldog', 'Clozer', 'Zeka', 'Clear', 'Kellin',\n",
       "       'Zeka', 'Paduck', 'Aiming', 'Effort', 'Gumayusi', 'DnDn', 'Quad',\n",
       "       'Croco', 'Gumayusi', 'Bulldog', 'Effort', 'Kael', 'Morgan',\n",
       "       'Lehends', 'Bdd', 'Zeus', 'Sylvie', 'FATE', 'Effort', 'Karis',\n",
       "       'Aiming', 'Canyon', 'Doran', 'DuDu', 'Chovy', 'YoungJae', 'Oner',\n",
       "       'Kiin', 'Clear', 'FIESTA', 'Jun', 'Lehends', 'Oner', 'Peanut',\n",
       "       'Teddy', 'DnDn', 'YoungJae', 'BeryL', 'FIESTA', 'Deft', 'Delight',\n",
       "       'Jun', 'Peyz', 'Taeyoon', 'Chovy', 'Rascal', 'Juhan', 'kingen',\n",
       "       'Kael', 'Gumayusi', 'Bdd', 'Jiwoo', 'Canyon', 'Lehends', 'Andil',\n",
       "       'Kael', 'DnDn', 'Lehends', 'Bdd', 'Aiming', 'Kiin', 'Paduck',\n",
       "       'Paduck', 'Peyz', 'Effort', 'Zeus', 'Zeus', 'Delight', 'Doran',\n",
       "       'Cuzz', 'Paduck', 'Clozer', 'UmTi', 'Gumayusi', 'Doran', 'Quad',\n",
       "       'Jiwoo', 'kingen', 'Kael', 'Andil', 'Jun', 'Canyon', 'Rascal',\n",
       "       'kingen', 'Lehends', 'Paduck', 'DuDu', 'Oner', 'Deft', 'FIESTA',\n",
       "       'kingen', 'Sylvie', 'Cuzz', 'Sylvie', 'Peter', 'Canna', 'kingen',\n",
       "       'Rascal', 'Sylvie', 'Canyon', 'Bulldog', 'Delight', 'Bdd', 'Faker',\n",
       "       'Doran', 'Life', 'Canna', 'Kael', 'Rascal', 'Vital', 'Bdd',\n",
       "       'Doran', 'Deft', 'DuDu', 'Gumayusi', 'Viper', 'Bdd', 'Bulldog',\n",
       "       'Andil', 'Burdol', 'Andil', 'YoungJae', 'Hena', 'Gumayusi', 'Bdd',\n",
       "       'Hena', 'Morgan', 'Faker', 'Delight', 'Andil', 'ShowMaker', 'Quad',\n",
       "       'FIESTA', 'Peyz', 'Bdd', 'Deft', 'Bulldog', 'UmTi', 'kingen',\n",
       "       'Bulldog', 'DuDu', 'Effort', 'Canyon', 'Willer', 'Deft', 'Karis',\n",
       "       'Bible', 'Morgan', 'Canyon', 'Gumayusi', 'Chovy', 'Faker', 'Doran',\n",
       "       'Morgan', 'Paduck', 'Ivory', 'Karis', 'Grizzly', 'Karis', 'kingen',\n",
       "       'Juhan', 'Kellin', 'Jiwoo', 'Aiming', 'Kiin', 'DuDu', 'BeryL',\n",
       "       'Willer', 'Andil', 'UmTi', 'Taeyoon', 'Canyon', 'ShowMaker',\n",
       "       'Rascal', 'Cuzz', 'Peyz', 'Clozer', 'Life', 'Effort', 'UmTi',\n",
       "       'Paduck', 'Hena', 'DnDn', 'Cuzz', 'Sylvie', 'Clozer', 'Karis',\n",
       "       'Aiming', 'Peanut', 'Delight', 'Teddy', 'Oner', 'Kiin', 'Jiwoo',\n",
       "       'Jiwoo', 'Viper', 'ShowMaker', 'kingen', 'DnDn', 'Willer', 'Deft',\n",
       "       'Bulldog', 'Aiming', 'Morgan', 'Croco', 'Rascal', 'Zeus', 'Keria',\n",
       "       'Kyeahoo', 'Jun', 'UmTi', 'Deft', 'Canna', 'Ivory', 'Delight',\n",
       "       'DuDu', 'Gumayusi', 'Zeka', 'Chovy', 'Effort', 'BeryL', 'Clozer',\n",
       "       'Kael', 'Canyon', 'Life', 'Keria', 'Zeus', 'DnDn', 'YoungJae',\n",
       "       'ShowMaker', 'Oner', 'Grizzly', 'Peter', 'Willer', 'Life', 'Zeka',\n",
       "       'Hena', 'Bulldog', 'Sylvie', 'Zeus', 'BeryL', 'Lehends', 'Clozer'],\n",
       "      dtype=object)"
      ]
     },
     "execution_count": 26,
     "metadata": {},
     "output_type": "execute_result"
    }
   ],
   "source": [
    "import numpy as np\n",
    "\n",
    "np.array(y_test)"
   ]
  },
  {
   "cell_type": "code",
   "execution_count": null,
   "metadata": {},
   "outputs": [],
   "source": []
  }
 ],
 "metadata": {
  "kernelspec": {
   "display_name": "base",
   "language": "python",
   "name": "python3"
  },
  "language_info": {
   "codemirror_mode": {
    "name": "ipython",
    "version": 3
   },
   "file_extension": ".py",
   "mimetype": "text/x-python",
   "name": "python",
   "nbconvert_exporter": "python",
   "pygments_lexer": "ipython3",
   "version": "3.10.9"
  },
  "orig_nbformat": 4
 },
 "nbformat": 4,
 "nbformat_minor": 2
}
