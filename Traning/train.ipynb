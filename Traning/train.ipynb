{
 "cells": [
  {
   "cell_type": "code",
   "execution_count": 1,
   "metadata": {},
   "outputs": [],
   "source": [
    "import pandas as pd\n",
    "\n",
    "df =pd.read_csv('../Data/ProcessedData/LCK_2023_SUMMER_DROP_NAN.csv')\n",
    "\n",
    "player_counts = df['Player'].value_counts()\n",
    "players_to_keep = player_counts[player_counts > 20].index\n",
    "df = df[df['Player'].isin(players_to_keep)]\n",
    "\n",
    "Top_df = df[df['Role'] == 'TOP']\n",
    "\n",
    "Top_filtered_data = Top_df[Top_df['Team'].isin(['KT', 'GEN', 'Dplus KIA', 'T1', 'HLE'])]\n",
    "# 'KT', 'LSB', 'DRX', 'KDF', 'BRION', 'GEN', 'Dplus KIA', 'HLE', 'NS', 'T1'\n",
    "\n",
    "Top_Win_df = Top_filtered_data[Top_filtered_data['Result'] == 'Win']"
   ]
  },
  {
   "cell_type": "code",
   "execution_count": 3,
   "metadata": {},
   "outputs": [],
   "source": [
    "Canna = Top_filtered_data[Top_filtered_data['Player'] == 'Canna']"
   ]
  },
  {
   "cell_type": "code",
   "execution_count": 12,
   "metadata": {},
   "outputs": [
    {
     "data": {
      "text/plain": [
       "Index(['Player', 'Champion', 'Role', 'Level', 'Kills', 'Deaths', 'Assists',\n",
       "       'KDA', 'CS', 'CS in Jungle', 'CSM', 'Golds', 'GPM', 'GOLD%',\n",
       "       'Vision Score', 'Wards placed', 'Wards destroyed',\n",
       "       'Control Wards Purchased', 'Detector Wards Placed', 'VSPM', 'WPM',\n",
       "       'VWPM', 'WCPM', 'VS%', 'Total damage to Champion', 'Physical Damage',\n",
       "       'Magic Damage', 'True Damage', 'DPM', 'DMG%', 'K+A Per Minute', 'KP%',\n",
       "       'Solo kills', 'Double kills', 'Triple kills', 'Quadra kills',\n",
       "       'Penta kills', 'GD@15', 'CSD@15', 'XPD@15', 'LVLD@15',\n",
       "       'Objectives Stolen', 'Damage dealt to turrets',\n",
       "       'Damage dealt to buildings', 'Total heal', 'Total Heals On Teammates',\n",
       "       'Damage self mitigated', 'Total Damage Shielded On Teammates',\n",
       "       'Time ccing others', 'Total Time CC Dealt', 'Total damage taken',\n",
       "       'Total Time Spent Dead', 'Consumables purchased', 'Items Purchased',\n",
       "       'Shutdown bounty collected', 'Shutdown bounty lost', 'Version', 'Date',\n",
       "       'Team', 'Result'],\n",
       "      dtype='object')"
      ]
     },
     "execution_count": 12,
     "metadata": {},
     "output_type": "execute_result"
    }
   ],
   "source": [
    "Top_df.columns"
   ]
  },
  {
   "cell_type": "code",
   "execution_count": 8,
   "metadata": {},
   "outputs": [
    {
     "data": {
      "text/plain": [
       "Morgan    45\n",
       "Rascal    43\n",
       "DnDn      43\n",
       "Zeus      42\n",
       "kingen    41\n",
       "Kiin      40\n",
       "Canna     40\n",
       "Doran     39\n",
       "DuDu      38\n",
       "Burdol    23\n",
       "Name: Player, dtype: int64"
      ]
     },
     "execution_count": 8,
     "metadata": {},
     "output_type": "execute_result"
    }
   ],
   "source": [
    "Top_df['Player'].value_counts()"
   ]
  },
  {
   "cell_type": "code",
   "execution_count": 17,
   "metadata": {},
   "outputs": [
    {
     "data": {
      "text/plain": [
       "10.0"
      ]
     },
     "execution_count": 17,
     "metadata": {},
     "output_type": "execute_result"
    }
   ],
   "source": [
    "Zeus = Top_df[Top_df['Player'] == 'Zeus']\n",
    "\n",
    "Zeus['Solo kills'].sum()"
   ]
  },
  {
   "cell_type": "code",
   "execution_count": null,
   "metadata": {},
   "outputs": [],
   "source": []
  },
  {
   "cell_type": "code",
   "execution_count": 50,
   "metadata": {},
   "outputs": [
    {
     "data": {
      "text/plain": [
       "Index(['Player', 'Champion', 'Role', 'Level', 'Kills', 'Deaths', 'Assists',\n",
       "       'KDA', 'CS', 'CS in Jungle', 'CSM', 'Golds', 'GPM', 'GOLD%',\n",
       "       'Vision Score', 'Wards placed', 'Wards destroyed',\n",
       "       'Control Wards Purchased', 'Detector Wards Placed', 'VSPM', 'WPM',\n",
       "       'VWPM', 'WCPM', 'VS%', 'Total damage to Champion', 'Physical Damage',\n",
       "       'Magic Damage', 'True Damage', 'DPM', 'DMG%', 'K+A Per Minute', 'KP%',\n",
       "       'Solo kills', 'Double kills', 'Triple kills', 'Quadra kills',\n",
       "       'Penta kills', 'GD@15', 'CSD@15', 'XPD@15', 'LVLD@15',\n",
       "       'Objectives Stolen', 'Damage dealt to turrets',\n",
       "       'Damage dealt to buildings', 'Total heal', 'Total Heals On Teammates',\n",
       "       'Damage self mitigated', 'Total Damage Shielded On Teammates',\n",
       "       'Time ccing others', 'Total Time CC Dealt', 'Total damage taken',\n",
       "       'Total Time Spent Dead', 'Consumables purchased', 'Items Purchased',\n",
       "       'Shutdown bounty collected', 'Shutdown bounty lost', 'Version', 'Date',\n",
       "       'Team', 'Result'],\n",
       "      dtype='object')"
      ]
     },
     "execution_count": 50,
     "metadata": {},
     "output_type": "execute_result"
    }
   ],
   "source": [
    "\n",
    "\n",
    "selected_features = ['VS%', 'DMG%', 'KP%', 'GOLD%']\n",
    "X = Top_Win_df[selected_features]\n",
    "y = Top_Win_df['Player']\n",
    "\n",
    "# Splitting the data into training and testing sets\n",
    "from sklearn.model_selection import train_test_split\n",
    "\n",
    "X_train, X_test, y_train, y_test = train_test_split(X, y, random_state=42, stratify=y)\n",
    "\n",
    "# Creating a StandardScaler instance.\n",
    "from sklearn.preprocessing import StandardScaler\n",
    "\n",
    "scaler = StandardScaler()\n",
    "\n",
    "# Fitting the Standard Scaler with the training data.\n",
    "X_scaler = scaler.fit(X_train)\n",
    "\n",
    "# Scaling the data.\n",
    "X_train_scaled = X_scaler.transform(X_train)\n",
    "X_test_scaled = X_scaler.transform(X_test)\n",
    "\n",
    "# Importing the model\n",
    "from sklearn.linear_model import LogisticRegression\n",
    "classifier = LogisticRegression(solver='lbfgs', max_iter=50, random_state=42)\n",
    "\n",
    "# Fitting the model\n",
    "classifier.fit(X_train_scaled, y_train)\n",
    "\n",
    "# Making predictions using the testing data.\n",
    "predictions = classifier.predict(X_test_scaled)\n",
    "\n",
    "# Calculating the accuracy score.\n",
    "from sklearn.metrics import accuracy_score\n",
    "accuracy_score(y_test, predictions)"
   ]
  },
  {
   "cell_type": "code",
   "execution_count": 56,
   "metadata": {},
   "outputs": [
    {
     "data": {
      "text/plain": [
       "<Axes: >"
      ]
     },
     "execution_count": 56,
     "metadata": {},
     "output_type": "execute_result"
    },
    {
     "data": {
      "image/png": "[encoded data removed]",
      "text/plain": [
       "<Figure size 640x480 with 2 Axes>"
      ]
     },
     "metadata": {},
     "output_type": "display_data"
    }
   ],
   "source": [
    "from sklearn.metrics import confusion_matrix, classification_report\n",
    "matrix = confusion_matrix(y_test, predictions)\n",
    "\n",
    "from seaborn import heatmap\n",
    "heatmap(matrix, annot=True, cmap='Blues')"
   ]
  },
  {
   "cell_type": "code",
   "execution_count": 49,
   "metadata": {},
   "outputs": [
    {
     "data": {
      "image/png": "[encoded data removed]",
      "text/plain": [
       "<Figure size 1200x800 with 1 Axes>"
      ]
     },
     "metadata": {},
     "output_type": "display_data"
    }
   ],
   "source": [
    "filtered_data = df[df['Team'].isin(['KT', 'GEN', 'Dplus KIA', 'HLE', 'T1'])]\n",
    "# 'KT', 'LSB', 'DRX', 'KDF', 'BRION', 'GEN', 'Dplus KIA', 'HLE', 'NS', 'T1'\n",
    "\n",
    "# Drop players with a frequency count less than or equal to 20\n",
    "player_counts = filtered_data['Player'].value_counts()\n",
    "players_to_keep = player_counts[player_counts > 20].index\n",
    "filtered_data = filtered_data[filtered_data['Player'].isin(players_to_keep)]\n",
    "\n",
    "\n",
    "Top_df = filtered_data[filtered_data['Role'] == 'TOP']\n",
    "Top_Win_df = Top_df[Top_df['Result'] == 'Win']\n",
    "Top_Win_df['Player'].value_counts()\n",
    "\n",
    "\n",
    "selected_features = ['CSM', 'GPM', 'VSPM', 'DPM', 'K+A Per Minute', 'Solo kills', 'XPD@15']\n",
    "X = Top_Win_df[selected_features]\n",
    "y = Top_Win_df['Player']\n",
    "\n",
    "# Splitting the data into training and testing sets\n",
    "from sklearn.model_selection import train_test_split\n",
    "\n",
    "X_train, X_test, y_train, y_test = train_test_split(X, y, random_state=10, stratify=y)\n",
    "\n",
    "# Creating a StandardScaler instance.\n",
    "from sklearn.preprocessing import StandardScaler\n",
    "\n",
    "scaler = StandardScaler()\n",
    "\n",
    "# Fitting the Standard Scaler with the training data.\n",
    "X_scaler = scaler.fit(X_train)\n",
    "\n",
    "# Scaling the data.\n",
    "X_train_scaled = X_scaler.transform(X_train)\n",
    "X_test_scaled = X_scaler.transform(X_test)\n",
    "\n",
    "#Random Forest to search feature importance\n",
    "from sklearn.ensemble import RandomForestClassifier\n",
    "from sklearn.datasets import make_classification\n",
    "from sklearn.model_selection import train_test_split\n",
    "\n",
    "rf_classifier = RandomForestClassifier(n_estimators=100, max_depth=2,random_state=0)\n",
    "rf_classifier.fit(X_train_scaled, y_train)\n",
    "\n",
    "# Extract feature importances\n",
    "feature_importances = rf_classifier.feature_importances_\n",
    "\n",
    "import matplotlib.pyplot as plt\n",
    "# Visualize the feature importances\n",
    "plt.figure(figsize=(12, 8))\n",
    "plt.barh(selected_features, feature_importances, align='center')\n",
    "plt.xlabel('Feature Importance')\n",
    "plt.ylabel('Feature')\n",
    "plt.title('Feature Importances using Random Forest')\n",
    "plt.gca().invert_yaxis()\n",
    "plt.show()"
   ]
  },
  {
   "cell_type": "code",
   "execution_count": null,
   "metadata": {},
   "outputs": [],
   "source": []
  }
 ],
 "metadata": {
  "kernelspec": {
   "display_name": "base",
   "language": "python",
   "name": "python3"
  },
  "language_info": {
   "codemirror_mode": {
    "name": "ipython",
    "version": 3
   },
   "file_extension": ".py",
   "mimetype": "text/x-python",
   "name": "python",
   "nbconvert_exporter": "python",
   "pygments_lexer": "ipython3",
   "version": "3.9.13"
  },
  "orig_nbformat": 4
 },
 "nbformat": 4,
 "nbformat_minor": 2
}
