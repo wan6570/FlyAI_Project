{
 "cells": [
  {
   "cell_type": "code",
   "execution_count": 4,
   "metadata": {},
   "outputs": [
    {
     "name": "stderr",
     "output_type": "stream",
     "text": [
      "C:\\Users\\jongwan\\AppData\\Local\\Temp\\ipykernel_3688\\4245070376.py:28: SettingWithCopyWarning: \n",
      "A value is trying to be set on a copy of a slice from a DataFrame.\n",
      "Try using .loc[row_indexer,col_indexer] = value instead\n",
      "\n",
      "See the caveats in the documentation: https://pandas.pydata.org/pandas-docs/stable/user_guide/indexing.html#returning-a-view-versus-a-copy\n",
      "  df[feature] = df[feature].str.rstrip('%').astype('float') / 100.0\n"
     ]
    },
    {
     "data": {
      "text/plain": [
       "{'TOP':       GOLD%       VS%      DMG%    KP%    XPD@15\n",
       " 0  0.424779  0.470968  0.493188  0.563  0.910324\n",
       " 5  0.433628  0.425806  0.504087  0.500  0.089676,\n",
       " 'JUNGLE':       GOLD%       VS%      DMG%    KP%    XPD@15\n",
       " 1  0.482759  0.466049  0.469136  0.688  0.941869\n",
       " 6  0.505747  0.438272  0.481481  1.000  0.058131,\n",
       " 'MID':       GOLD%       VS%      DMG%    KP%    XPD@15\n",
       " 2  0.500000  0.342105  0.160976  0.438  0.323726\n",
       " 7  0.614583  0.219298  0.353659  1.000  0.676274,\n",
       " 'ADC':       GOLD%       VS%    DMG%   KP%    XPD@15\n",
       " 3  0.573643  0.510040  0.6100  0.75  0.721921\n",
       " 8  0.379845  0.325301  0.4025  0.50  0.263362,\n",
       " 'SUPPORT':       GOLD%       VS%      DMG%    KP%   XPD@15\n",
       " 4  0.194030  0.234848  0.146104  0.688  0.62861\n",
       " 9  0.343284  0.462121  0.136364  0.500  0.37139}"
      ]
     },
     "execution_count": 4,
     "metadata": {},
     "output_type": "execute_result"
    }
   ],
   "source": [
    "import numpy as np\n",
    "import pandas as pd\n",
    "\n",
    "data = pd.read_csv('F:\\Python\\FlyAI_Project\\Data\\RawData\\GameStats\\LCK_2023_SPRING.csv')\n",
    "\n",
    "# 특정 Player가 10번 이하로 나오는 경우 제외\n",
    "player_counts = data['Player'].value_counts()\n",
    "players_to_keep = player_counts[player_counts > 10].index\n",
    "filtered_data = data[data['Player'].isin(players_to_keep)]\n",
    "\n",
    "# Role로 데이터 분리\n",
    "roles = filtered_data['Role'].unique()\n",
    "data_by_role = {role: filtered_data[filtered_data['Role'] == role] for role in roles}\n",
    "\n",
    "from sklearn.preprocessing import MinMaxScaler\n",
    "\n",
    "# 사용할 feature 선택\n",
    "features = ['GOLD%', 'VS%', 'DMG%', 'KP%', 'XPD@15']\n",
    "\n",
    "# MinMaxScaler 초기화\n",
    "scaler = MinMaxScaler()\n",
    "\n",
    "scaled_data_by_role = {}\n",
    "for role, df in data_by_role.items():\n",
    "    for feature in features:\n",
    "        if df[feature].dtype == 'object':\n",
    "            df[feature] = df[feature].str.rstrip('%').astype('float') / 100.0\n",
    "\n",
    "# 다시 MinMaxScaling 적용\n",
    "scaled_data_by_role = {}\n",
    "for role, df in data_by_role.items():\n",
    "    scaled_df = df.copy()\n",
    "    scaled_df[features] = scaler.fit_transform(df[features])\n",
    "    scaled_data_by_role[role] = scaled_df\n",
    "\n",
    "# 각 role에 대한 스케일링 된 데이터의 처음 몇 행 확인\n",
    "scaled_data_by_role_sample = {role: df[features].head(2) for role, df in scaled_data_by_role.items()}\n",
    "scaled_data_by_role_sample\n"
   ]
  },
  {
   "cell_type": "code",
   "execution_count": 5,
   "metadata": {},
   "outputs": [],
   "source": [
    "from sklearn.model_selection import train_test_split\n",
    "\n",
    "# train/test 데이터 분리\n",
    "train_data_by_role = {}\n",
    "test_data_by_role = {}\n",
    "\n",
    "for role, df in scaled_data_by_role.items():\n",
    "    train_df, test_df = train_test_split(df, test_size=0.2, random_state=42)\n",
    "    train_data_by_role[role] = train_df\n",
    "    test_data_by_role[role] = test_df"
   ]
  },
  {
   "cell_type": "code",
   "execution_count": 7,
   "metadata": {},
   "outputs": [
    {
     "name": "stdout",
     "output_type": "stream",
     "text": [
      "{'TOP': 0.19318181818181818, 'JUNGLE': 0.11363636363636363, 'MID': 0.1724137931034483, 'ADC': 0.10465116279069768, 'SUPPORT': 0.14772727272727273}\n"
     ]
    }
   ],
   "source": [
    "from sklearn.ensemble import RandomForestClassifier\n",
    "from sklearn.metrics import accuracy_score\n",
    "\n",
    "# 랜덤 포레스트 분류기 초기화\n",
    "clf = RandomForestClassifier(random_state=42)\n",
    "\n",
    "for role in train_data_by_role.keys():\n",
    "    train_data_by_role[role] = train_data_by_role[role].dropna(subset=features)\n",
    "    test_data_by_role[role] = test_data_by_role[role].dropna(subset=features)\n",
    "\n",
    "accuracies = {}\n",
    "for role in train_data_by_role.keys():\n",
    "    X_train = train_data_by_role[role][features]\n",
    "    y_train = train_data_by_role[role]['Player']\n",
    "    X_test = test_data_by_role[role][features]\n",
    "    y_test = test_data_by_role[role]['Player']\n",
    "    \n",
    "    # 모델 학습\n",
    "    clf.fit(X_train, y_train)\n",
    "    \n",
    "    # 예측\n",
    "    y_pred = clf.predict(X_test)\n",
    "    \n",
    "    # 정확도 계산\n",
    "    accuracy = accuracy_score(y_test, y_pred)\n",
    "    accuracies[role] = accuracy\n",
    "\n",
    "print(accuracies)"
   ]
  },
  {
   "cell_type": "code",
   "execution_count": null,
   "metadata": {},
   "outputs": [],
   "source": []
  }
 ],
 "metadata": {
  "kernelspec": {
   "display_name": "base",
   "language": "python",
   "name": "python3"
  },
  "language_info": {
   "codemirror_mode": {
    "name": "ipython",
    "version": 3
   },
   "file_extension": ".py",
   "mimetype": "text/x-python",
   "name": "python",
   "nbconvert_exporter": "python",
   "pygments_lexer": "ipython3",
   "version": "3.9.13"
  },
  "orig_nbformat": 4
 },
 "nbformat": 4,
 "nbformat_minor": 2
}
