{
 "cells": [
  {
   "cell_type": "markdown",
   "metadata": {},
   "source": [
    "## 유저 이름 추출"
   ]
  },
  {
   "cell_type": "code",
   "execution_count": 181,
   "metadata": {},
   "outputs": [
    {
     "data": {
      "text/plain": [
       "['플라밍고',\n",
       " '하건둘리',\n",
       " 'R0HAN',\n",
       " 'Ditto Dihoo',\n",
       " '걱정 안 해요',\n",
       " 'M1nE',\n",
       " '급할수록도라애몽',\n",
       " 'йun',\n",
       " 'Boйg',\n",
       " 'Koйg',\n",
       " 'Rakaй',\n",
       " '나루토',\n",
       " '달리는 인우캣',\n",
       " '장래희망도라에몽으로제출할거에요',\n",
       " '지창아',\n",
       " '별양동캣맘유지드',\n",
       " 'DARIUS 01',\n",
       " 'Yoon SeokJun',\n",
       " '나진짜시민이야',\n",
       " '채연모찌',\n",
       " '광호루라기',\n",
       " '디케이 탑',\n",
       " '에이땅',\n",
       " '고맘다냥',\n",
       " '꼬마양씨',\n",
       " '너무 소중했었던',\n",
       " '이걸 피하냐',\n",
       " 'PTSD 증후군',\n",
       " '망 고 오 레 오',\n",
       " '준하의코브라',\n",
       " '모두굿바이',\n",
       " '내가 아쉬웠다',\n",
       " '고수님',\n",
       " 'poй',\n",
       " '섹시여신',\n",
       " '매일밤 매일밤',\n",
       " '고흥 새우젓',\n",
       " '뽀리오',\n",
       " '라꾸랑',\n",
       " '단축이',\n",
       " '리 셉',\n",
       " '기동신 피즈',\n",
       " '미모 메두사 지수',\n",
       " 'Onzzed94',\n",
       " '지훈백크',\n",
       " '문방구 액체괴물',\n",
       " '얄미운데 귀여워',\n",
       " '고챠비',\n",
       " '낭만있는 망난이',\n",
       " '시원님',\n",
       " 'Willa',\n",
       " 'ee a in',\n",
       " '서현쨩',\n",
       " '철마산밍키',\n",
       " 'Hodling',\n",
       " '잉 묘',\n",
       " '덕박기',\n",
       " '잠이많은편',\n",
       " '얼른 도망가야해',\n",
       " 'Syg Yoon',\n",
       " '표 주',\n",
       " 'Taketatsu Ayana',\n",
       " '숲의교회',\n",
       " 'Gen G Ruler',\n",
       " '노라에몽',\n",
       " '15ggwp',\n",
       " '좀 서',\n",
       " '하 퀸',\n",
       " '그냥대충하는',\n",
       " '체리리',\n",
       " '비 품',\n",
       " '눈돌아가면다죽임',\n",
       " '전적보시던가',\n",
       " '늙고병든김세인',\n",
       " '어깨가너무아파요',\n",
       " '선호빵맨',\n",
       " 'Happy Blesse',\n",
       " '지는게싫어요',\n",
       " 'AKA ShowTime',\n",
       " '정글유기시 15 gg',\n",
       " 'KINGBAAAM',\n",
       " '햄 뚠',\n",
       " '입싸직전',\n",
       " 'Post Ma1one fan',\n",
       " '박치기형탑',\n",
       " '김시온이',\n",
       " '체리찌개',\n",
       " '썬크시트',\n",
       " '울릉도에 살아요',\n",
       " 'calmuser',\n",
       " '미안한데어쩌라구',\n",
       " '주연을위한조연',\n",
       " '감튀라지사이즈',\n",
       " '즐겜 ON 행복하게',\n",
       " 'aweefd',\n",
       " '그랬구나',\n",
       " 'Mooй',\n",
       " '새기칼날부리',\n",
       " 'AD ManDu',\n",
       " 'maybe 0r not',\n",
       " '침식이',\n",
       " 'ADCKIING',\n",
       " 'CTHDG',\n",
       " '얼룩  핫도그',\n",
       " '작은 코끼리 땃쥐',\n",
       " '주녕서녕',\n",
       " '무제한체급',\n",
       " '태리곰',\n",
       " 'Siwol',\n",
       " 'los',\n",
       " '옆 누',\n",
       " '억울MEN',\n",
       " '갱생하는날',\n",
       " 'Battle Angel',\n",
       " '고땡9',\n",
       " 'Door1023',\n",
       " '김 케 쟝',\n",
       " '지구야 그럼 목성',\n",
       " '코요태',\n",
       " 'janguya',\n",
       " '허각옆에실각',\n",
       " 'Kid Laroi',\n",
       " '아이디 뭐하딩',\n",
       " '극딜 유저',\n",
       " 'A x',\n",
       " '알리 스타 칼리',\n",
       " '란슈르',\n",
       " '깔끔하게밥먹기',\n",
       " 'PoroPoma',\n",
       " '송인제',\n",
       " '안되는 걸 알지만',\n",
       " '제드 아는형',\n",
       " '헉조롱이',\n",
       " '세춘이',\n",
       " '뇌절 보존의 법칙',\n",
       " '정성하본업모먼트',\n",
       " '미러볼 공포증',\n",
       " 'Xplex',\n",
       " 'Rivening',\n",
       " '좋아해여',\n",
       " '범이커',\n",
       " '이 쏘',\n",
       " 'Moonwawa',\n",
       " 'Ashai',\n",
       " '용재신',\n",
       " '방 탄',\n",
       " 'bot farm is win',\n",
       " '쭈 호',\n",
       " '강태시기',\n",
       " '도구인식파괴범',\n",
       " '남성간호사',\n",
       " '귀여운 리쁘니',\n",
       " 'AABBCCDDEE123',\n",
       " 'In the Korea',\n",
       " '서연뿐인 찬희',\n",
       " '다체원',\n",
       " '열 린',\n",
       " '프로그램 카밀',\n",
       " '늙어서 도구만함',\n",
       " 'makibakou',\n",
       " '롤로노아 박성호',\n",
       " '토 템',\n",
       " '꽂아버리는놈',\n",
       " '국 훈',\n",
       " 'chltmdgy',\n",
       " '플 랏',\n",
       " '다            결',\n",
       " '롤로노아 긤동현',\n",
       " '현 다이진',\n",
       " 'AD Swain King',\n",
       " '멱살잡아주는미드',\n",
       " '코카콜라또먹지',\n",
       " 'Royal Caitlyn',\n",
       " '최애의 하민',\n",
       " '편 애',\n",
       " '고쥬노',\n",
       " '누구나이유는있다',\n",
       " '꼬마딩구리',\n",
       " '내몸에서나가트할',\n",
       " '서로 죽여라',\n",
       " '92king',\n",
       " '유서연현남친',\n",
       " '송골송골송골매',\n",
       " '샐리의메아리',\n",
       " '내 꿈을위한여행',\n",
       " '크앙해줘',\n",
       " '온 통',\n",
       " '미드뒤봐주는사람',\n",
       " '한낮의 유성',\n",
       " '안희선',\n",
       " 'SNSD Lim Yoon ah',\n",
       " 'Harunoh1',\n",
       " '우르국밥',\n",
       " 'Happy Mandu',\n",
       " '슬픈솔랭',\n",
       " '표과장',\n",
       " '앙팥빵',\n",
       " 'JARVANK1NG',\n",
       " '내가틀리면차단',\n",
       " 'Yerianna',\n",
       " '둥글맨',\n",
       " '닥쳐봐캐리해줄게',\n",
       " '2D가최고지',\n",
       " '광검왕',\n",
       " '역청괴',\n",
       " '곰바오',\n",
       " '용찌빵',\n",
       " '낭 설',\n",
       " '재간이',\n",
       " '안오면 꼬라박기',\n",
       " '레이야 나 죽어',\n",
       " '동균갓',\n",
       " '순수타코',\n",
       " '원솔희 주인',\n",
       " '안 룡',\n",
       " '신교대 히틀러',\n",
       " '네로냥냥펀치',\n",
       " '하얀초밥',\n",
       " '최수종',\n",
       " 'IVE 워녕',\n",
       " '나루카제',\n",
       " '복자몬',\n",
       " 'Mahiru',\n",
       " 'old top',\n",
       " 'night 27',\n",
       " 'lvan b',\n",
       " '우연히 길을 걷다',\n",
       " 'what did do',\n",
       " 'AS WIN',\n",
       " '주또모또',\n",
       " '수헬리',\n",
       " '지혜룽',\n",
       " 'LV5 애벌레',\n",
       " '다이아 원딜유저',\n",
       " '맵 지',\n",
       " '절제왕',\n",
       " 'й 소라카 й',\n",
       " 'UofT합격생',\n",
       " 'I 재 찬 I',\n",
       " '라쿤아저씨',\n",
       " '조철곤',\n",
       " '쥰식엄',\n",
       " 'Jing naй',\n",
       " '봄이가을이',\n",
       " '우리팀모오해',\n",
       " 'Cadis',\n",
       " '화가 피카츄',\n",
       " 'AKA Teus',\n",
       " 'smile mandu',\n",
       " '말걸면한우함',\n",
       " '벅유맨',\n",
       " '닉 오',\n",
       " 'EG Luminous',\n",
       " 'seveйteeй',\n",
       " '96 데프트',\n",
       " '빡빠군',\n",
       " '말로안하는성격',\n",
       " 'Americanong',\n",
       " 'Video Game',\n",
       " '여 암',\n",
       " '꼬북이물대포팡',\n",
       " '예 랴',\n",
       " '탑 챔',\n",
       " '몽쉘빅파이오예스',\n",
       " '에이전트 잼',\n",
       " '국산대나무',\n",
       " '김운식',\n",
       " '빡치면마이한다',\n",
       " 'xiaozhewanq',\n",
       " '사검은막',\n",
       " '저코리롤',\n",
       " 'katarina mid gap',\n",
       " 'senseiseason',\n",
       " '박석민123',\n",
       " '지친다잘생긴것도',\n",
       " '하드웨어',\n",
       " '유서연 폼 미쳤다']"
      ]
     },
     "execution_count": 181,
     "metadata": {},
     "output_type": "execute_result"
    }
   ],
   "source": [
    "import pandas as pd\n",
    "import requests\n",
    "from urllib import parse\n",
    "\n",
    "queue=parse.quote('RANKED_FLEX_SR')\n",
    "usernames=[]\n",
    "tiers=['challenger','grandmaster','master']\n",
    "with open('APIkey.txt', 'r', encoding='utf-8') as file:\n",
    "    apiKey=file.readline()\n",
    "\n",
    "for tier in tiers:\n",
    "    url = f'https://kr.api.riotgames.com/lol/league/v4/{tier}leagues/by-queue/{queue}'+'?api_key=' + apiKey #puuid값을 가져오기 위한 주소\n",
    "    r = requests.get(url)\n",
    "    r = r.json()\n",
    "    for k in r['entries']:\n",
    "        usernames.append(k['summonerName'])\n",
    "usernames"
   ]
  },
  {
   "cell_type": "markdown",
   "metadata": {},
   "source": []
  },
  {
   "cell_type": "code",
   "execution_count": null,
   "metadata": {},
   "outputs": [],
   "source": []
  },
  {
   "cell_type": "code",
   "execution_count": null,
   "metadata": {},
   "outputs": [],
   "source": []
  },
  {
   "cell_type": "code",
   "execution_count": 27,
   "metadata": {},
   "outputs": [],
   "source": [
    "usernames=usernames[:50]"
   ]
  },
  {
   "cell_type": "code",
   "execution_count": 28,
   "metadata": {},
   "outputs": [
    {
     "data": {
      "text/plain": [
       "['Ditto Dihoo',\n",
       " '플라밍고',\n",
       " '하건둘리',\n",
       " '급할수록도라애몽',\n",
       " 'Yoon SeokJun',\n",
       " 'M1nE',\n",
       " '장래희망도라에몽으로제출할거에요',\n",
       " 'йun',\n",
       " 'DARIUS 01',\n",
       " '달리는 인우캣',\n",
       " 'Rakaй',\n",
       " 'R0HAN',\n",
       " '별양동캣맘유지드',\n",
       " '피지컬로하는놈',\n",
       " 'Rivening',\n",
       " '절제왕',\n",
       " '22K',\n",
       " '박석민123',\n",
       " 'Hodling',\n",
       " '프로그램 카밀',\n",
       " '롤로노아 박성호',\n",
       " '플 랏',\n",
       " '란슈르',\n",
       " '한낮의 유성',\n",
       " '섹시여신',\n",
       " '이 쏘',\n",
       " '도구인식파괴범',\n",
       " '즐겜 ON 행복하게',\n",
       " '오타쿠아니라니깐',\n",
       " '에이땅',\n",
       " '재간이',\n",
       " '남성간호사',\n",
       " '겜할시간에책읽기',\n",
       " '덕박기',\n",
       " '국 훈',\n",
       " '수헬리',\n",
       " '여 암',\n",
       " '괴물루키김유빈',\n",
       " '멱살잡아주는미드',\n",
       " '이팔청춘 박봉팔',\n",
       " '초보의낙',\n",
       " '문방구 액체괴물',\n",
       " '선산김씨39대손',\n",
       " '광호루라기',\n",
       " '우리팀모오해',\n",
       " 'night 27',\n",
       " 'Redbit',\n",
       " 'rla동현',\n",
       " 'seveйteeй',\n",
       " '표과장']"
      ]
     },
     "execution_count": 28,
     "metadata": {},
     "output_type": "execute_result"
    }
   ],
   "source": [
    "usernames"
   ]
  },
  {
   "cell_type": "markdown",
   "metadata": {},
   "source": [
    "## 유저 경기 데이터 모으기"
   ]
  },
  {
   "cell_type": "code",
   "execution_count": 146,
   "metadata": {},
   "outputs": [],
   "source": [
    "col_list=[]\n",
    "username=''\n",
    "with open('APIcols.txt', 'r', encoding='utf-8') as file:\n",
    "    for line in file:\n",
    "        col_list.append(line.strip()) \n",
    "        \n",
    "def preprocessing(df,r_timeline,puuid,col_list=col_list):\n",
    "    df1=df[df['puuid']==puuid]\n",
    "    df1['Player']=username\n",
    "    df1['KDA 0.5']=(df1['kills']+df1['assists'])/(df1['deaths']+0.5)\n",
    "\n",
    "    df1['CSM']=df1['totalMinionsKilled']/df1['timePlayed']\n",
    "\n",
    "    df1['GPM']=df1['goldEarned']/df1['timePlayed']\n",
    "\n",
    "    df1['VSPM']=df1['visionScore']/df1['timePlayed']\n",
    "    df1['WPM']=df1['wardsPlaced']/df1['timePlayed']\n",
    "    df1['VWPM']=df1['detectorWardsPlaced']/df1['timePlayed']\n",
    "    df1['WCPM']=df1['wardsKilled']/df1['timePlayed']\n",
    "\n",
    "    df1['DPM']=df1['totalDamageDealtToChampions']/df1['timePlayed']\n",
    "\n",
    "    df1['K+A Per Minute']=(df1['kills']+df1['assists'])/df1['timePlayed']\n",
    "\n",
    "    #이건 생략\n",
    "    #  df1['Shutdown bounty collected']\n",
    "    #  df1['Shutdown bounty lost']\n",
    "    #  df1['Solo kills']=\n",
    "\n",
    "    #timeline지표들\n",
    "    usernum=str(df1['participantId'].iloc[0])\n",
    "    oppnum=str((int(usernum)+4)%10+1)\n",
    "    df1['GD@15']=r_timeline['info']['frames'][15]['participantFrames'][usernum]['totalGold']\n",
    "\n",
    "    df1['CSD@15']=r_timeline['info']['frames'][15]['participantFrames'][usernum]['minionsKilled']\n",
    "\n",
    "    df1['XPD@15']=r_timeline['info']['frames'][15]['participantFrames'][usernum]['xp']\n",
    "\n",
    "    df1['LVLD@15']=r_timeline['info']['frames'][15]['participantFrames'][usernum]['level']-r_timeline['info']['frames'][15]['participantFrames'][oppnum]['level'] #,'minionsKilled','xp']\n",
    "\n",
    "    # %지표들\n",
    "\n",
    "    df1['GOLD ratio']=df1['goldEarned']/df[df['teamId']==int(df1['teamId'])]['goldEarned'].sum(axis=0)*100\n",
    "    df1['VS ratio']=df1['visionScore']/df[df['teamId']==int(df1['teamId'])]['visionScore'].sum(axis=0)*100\n",
    "    df1['DMG ratio']=df1['totalDamageDealtToChampions']/df[df['teamId']==int(df1['teamId'])]['totalDamageDealtToChampions'].sum(axis=0)*100\n",
    "    df1['KP ratio']=(df1['kills']+df1['assists'])/df[df['teamId']==int(df1['teamId'])]['kills'].sum(axis=0)*100\n",
    "\n",
    "    return df1[col_list]"
   ]
  },
  {
   "cell_type": "code",
   "execution_count": 165,
   "metadata": {},
   "outputs": [
    {
     "name": "stdout",
     "output_type": "stream",
     "text": [
      "['RGAPI-5eef38a6-3636-424a-a1cf-fa74a79baa9c', 'RGAPI-68dab286-8a61-459f-915e-0ba7d95fc88c']\n"
     ]
    }
   ],
   "source": [
    "api_keys = []\n",
    "\n",
    "with open(\"APIKey.txt\", \"r\") as file:\n",
    "    api_keys = [line.strip() for line in file]\n",
    "\n",
    "print(api_keys)"
   ]
  },
  {
   "cell_type": "code",
   "execution_count": 162,
   "metadata": {},
   "outputs": [
    {
     "data": {
      "text/plain": [
       "['RGAPI-5eef38a6-3636-424a-a1cf-fa74a79baa9c\\n',\n",
       " 'RGAPI-68dab286-8a61-459f-915e-0ba7d95fc88c']"
      ]
     },
     "execution_count": 162,
     "metadata": {},
     "output_type": "execute_result"
    }
   ],
   "source": [
    "apiKeys"
   ]
  },
  {
   "cell_type": "code",
   "execution_count": 174,
   "metadata": {},
   "outputs": [],
   "source": [
    "import pandas as pd\n",
    "import requests\n",
    "from urllib import parse\n",
    "\n",
    "def getAPI(name):\n",
    "    N=30\n",
    "    global username\n",
    "    username=name\n",
    "    with open('APIkey.txt', 'r', encoding='utf-8') as file:\n",
    "        apiKey=file.readline()\n",
    "    #username = '장연석'\n",
    "\n",
    "    id = parse.quote(username) # 아이디를 URL 인코딩\n",
    "\n",
    "    url = 'https://kr.api.riotgames.com/lol/summoner/v4/summoners/by-name/' + id +'?api_key=' + apiKey #puuid값을 가져오기 위한 주소\n",
    "    r = requests.get(url)\n",
    "    r = r.json()\n",
    "\n",
    "    puuid = r['puuid'] # puuid값을 가져옴\n",
    "\n",
    "    n = str(N)\n",
    "    rankUrl = 'https://asia.api.riotgames.com/lol/match/v5/matches/by-puuid/' + puuid + '/ids?queue=440&start=0&count='+n+'&api_key='+ apiKey\n",
    "    r = requests.get(rankUrl)\n",
    "    r = r.json()\n",
    "\n",
    "    rankId = r\n",
    "\n",
    "    df_final=pd.DataFrame()\n",
    "    m=0\n",
    "    for i in rankId:\n",
    "        m+=1\n",
    "        url = 'https://asia.api.riotgames.com/lol/match/v5/matches/' + i + '?api_key=' + apiKey\n",
    "        r = requests.get(url)\n",
    "        r = r.json()\n",
    "        info = r['info']  # 전체 데이터에서 info를 추출\n",
    "        part = info['participants'] # info 데이터에서 유저들의 정보 추출\n",
    "        df= pd.DataFrame(part)\n",
    "        url_timeline = f'https://asia.api.riotgames.com/lol/match/v5/matches/{i}/timeline?api_key={apiKey}'\n",
    "        r_timeline=requests.get(url_timeline)\n",
    "        r_timeline=r_timeline.json()\n",
    "        print(m)\n",
    "        if df['timePlayed'].iloc[0]<900:\n",
    "            return df_final\n",
    "        df_final=pd.concat([df_final,preprocessing(df,r_timeline,puuid)])\n",
    "        df_final = df_final.reset_index(drop=True)\n",
    "    return df_final"
   ]
  },
  {
   "cell_type": "code",
   "execution_count": 175,
   "metadata": {},
   "outputs": [
    {
     "ename": "NameError",
     "evalue": "name 'sleep' is not defined",
     "output_type": "error",
     "traceback": [
      "\u001b[1;31m---------------------------------------------------------------------------\u001b[0m",
      "\u001b[1;31mNameError\u001b[0m                                 Traceback (most recent call last)",
      "Cell \u001b[1;32mIn[175], line 1\u001b[0m\n\u001b[1;32m----> 1\u001b[0m sleep(\u001b[39m1\u001b[39m)\n",
      "\u001b[1;31mNameError\u001b[0m: name 'sleep' is not defined"
     ]
    }
   ],
   "source": [
    "sleep(1)"
   ]
  },
  {
   "cell_type": "code",
   "execution_count": null,
   "metadata": {},
   "outputs": [],
   "source": [
    "import time\n",
    "df_matches=pd.DataFrame()\n",
    "for i in usernames:\n",
    "    df_matches=pd.concat([df_matches,getAPI(i)])\n",
    "    df_matches.to_csv('flexdata.csv',index=False)\n",
    "    time.sleep(120)\n"
   ]
  },
  {
   "cell_type": "code",
   "execution_count": null,
   "metadata": {},
   "outputs": [],
   "source": []
  },
  {
   "cell_type": "code",
   "execution_count": 145,
   "metadata": {},
   "outputs": [
    {
     "data": {
      "text/plain": [
       "-1"
      ]
     },
     "execution_count": 145,
     "metadata": {},
     "output_type": "execute_result"
    }
   ],
   "source": [
    "r_timeline['info']['frames'][15]['participantFrames'][usernum]['totalGold']\n",
    "r_timeline['info']['frames'][15]['participantFrames'][usernum]['minionsKilled']\n",
    "\n",
    "r_timeline['info']['frames'][15]['participantFrames'][usernum]['xp']\n",
    "usernum=str(1)\n",
    "oppnum=str((int(usernum)+5)%10)\n",
    "r_timeline['info']['frames'][15]['participantFrames'][usernum]['level']-r_timeline['info']['frames'][15]['participantFrames'][oppnum]['level']"
   ]
  },
  {
   "cell_type": "code",
   "execution_count": null,
   "metadata": {},
   "outputs": [
    {
     "data": {
      "text/html": [
       "<div>\n",
       "<style scoped>\n",
       "    .dataframe tbody tr th:only-of-type {\n",
       "        vertical-align: middle;\n",
       "    }\n",
       "\n",
       "    .dataframe tbody tr th {\n",
       "        vertical-align: top;\n",
       "    }\n",
       "\n",
       "    .dataframe thead th {\n",
       "        text-align: right;\n",
       "    }\n",
       "</style>\n",
       "<table border=\"1\" class=\"dataframe\">\n",
       "  <thead>\n",
       "    <tr style=\"text-align: right;\">\n",
       "      <th></th>\n",
       "    </tr>\n",
       "  </thead>\n",
       "  <tbody>\n",
       "  </tbody>\n",
       "</table>\n",
       "</div>"
      ],
      "text/plain": [
       "Empty DataFrame\n",
       "Columns: []\n",
       "Index: []"
      ]
     },
     "execution_count": 79,
     "metadata": {},
     "output_type": "execute_result"
    }
   ],
   "source": [
    "df_matches.to_csv('flexdata.csv',index=False)"
   ]
  },
  {
   "cell_type": "code",
   "execution_count": 36,
   "metadata": {},
   "outputs": [
    {
     "data": {
      "text/plain": [
       "'Ditto Dihoo'"
      ]
     },
     "execution_count": 36,
     "metadata": {},
     "output_type": "execute_result"
    }
   ],
   "source": [
    "username"
   ]
  },
  {
   "cell_type": "code",
   "execution_count": 128,
   "metadata": {},
   "outputs": [],
   "source": [
    "id = parse.quote(username) # 아이디를 URL 인코딩\n",
    "\n",
    "url = 'https://kr.api.riotgames.com/lol/summoner/v4/summoners/by-name/' + id +'?api_key=' + apiKey #puuid값을 가져오기 위한 주소\n",
    "r = requests.get(url)\n",
    "r = r.json()\n",
    "\n",
    "puuid = r['puuid'] # puuid값을 가져옴\n",
    "N=1\n",
    "n = str(N)\n",
    "rankUrl = 'https://asia.api.riotgames.com/lol/match/v5/matches/by-puuid/' + puuid + '/ids?queue=440&start=0&count='+n+'&api_key='+ apiKey\n",
    "r = requests.get(rankUrl)\n",
    "r = r.json()\n",
    "\n",
    "rankId = r\n",
    "\n",
    "df_final=pd.DataFrame()\n",
    "for i in rankId:\n",
    "    url = 'https://asia.api.riotgames.com/lol/match/v5/matches/' + i + '?api_key=' + apiKey\n",
    "    r = requests.get(url)\n",
    "    r = r.json()\n",
    "    info = r['info']  # 전체 데이터에서 info를 추출\n",
    "    part = info['participants'] # info 데이터에서 유저들의 정보 추출\n",
    "    df= pd.DataFrame(part)\n",
    "    url_timeline = f'https://asia.api.riotgames.com/lol/match/v5/matches/{i}/timeline?api_key={apiKey}'\n",
    "    r_timeline=requests.get(url_timeline)\n",
    "    r_timeline=r_timeline.json()\n",
    "    # df_final=pd.concat([df_final,preprocessing(df,r_timeline)])"
   ]
  },
  {
   "cell_type": "code",
   "execution_count": 127,
   "metadata": {},
   "outputs": [
    {
     "data": {
      "text/plain": [
       "'플라밍고'"
      ]
     },
     "execution_count": 127,
     "metadata": {},
     "output_type": "execute_result"
    }
   ],
   "source": [
    "username"
   ]
  },
  {
   "cell_type": "code",
   "execution_count": 61,
   "metadata": {},
   "outputs": [
    {
     "data": {
      "text/plain": [
       "0    Pa5cgMbhDEhhsmjVe1LHtD756edt8ARjTqF1UeFVq0Lmiy...\n",
       "1    5WitDNxQaS8POHE01ruoCY1AWUZgg1V1JZFTDJ59rlCwJ6...\n",
       "2    0Vr4L7IIW1QrPJdDN7m8Qtn39r7ATN5yQ6B7lkaXHwbqbU...\n",
       "3    GT-aGTN63MPQ42_MoxD1GRhxT2Sgt2JhEu_4pPv0sSKxb8...\n",
       "4    vzLtAxLBsd6QLqlxta_oJCudCBySzxjYHNLwlxgT3n-CQz...\n",
       "5    XmWie0RGgZQub_8pqF55jj-uLisMhmxPtls3at7fRTu3FX...\n",
       "6    lGeaOetZJaMfebMQ7rH1AHfe23GxRdOsIjZLyUfKAQDgwN...\n",
       "7    kn6EevzRy3Nly9SQ22hZP_EgnttKG5SDJ8sJjU72B-3hgJ...\n",
       "8    8fWf7t4ivG4SnforQeZ3aZf6jEOSbL-uKADXfOxxlKq32Z...\n",
       "9    SxD6dhE-tpzWCVrz0wHNanF7YR3ozwgVxa34MycFF4AXye...\n",
       "Name: puuid, dtype: object"
      ]
     },
     "execution_count": 61,
     "metadata": {},
     "output_type": "execute_result"
    }
   ],
   "source": [
    "df['puuid']"
   ]
  },
  {
   "cell_type": "code",
   "execution_count": 129,
   "metadata": {},
   "outputs": [
    {
     "data": {
      "text/plain": [
       "0                앙팥빵\n",
       "1                이설인\n",
       "2          In or Out\n",
       "3               플라밍고\n",
       "4              뚱이 원딜\n",
       "5              박치기형탑\n",
       "6                루휘시\n",
       "7       2nd of a day\n",
       "8            달리는 인우캣\n",
       "9    No Chatting Sup\n",
       "Name: summonerName, dtype: object"
      ]
     },
     "execution_count": 129,
     "metadata": {},
     "output_type": "execute_result"
    }
   ],
   "source": [
    "df['summonerName']"
   ]
  },
  {
   "cell_type": "code",
   "execution_count": 131,
   "metadata": {},
   "outputs": [
    {
     "data": {
      "text/html": [
       "<div>\n",
       "<style scoped>\n",
       "    .dataframe tbody tr th:only-of-type {\n",
       "        vertical-align: middle;\n",
       "    }\n",
       "\n",
       "    .dataframe tbody tr th {\n",
       "        vertical-align: top;\n",
       "    }\n",
       "\n",
       "    .dataframe thead th {\n",
       "        text-align: right;\n",
       "    }\n",
       "</style>\n",
       "<table border=\"1\" class=\"dataframe\">\n",
       "  <thead>\n",
       "    <tr style=\"text-align: right;\">\n",
       "      <th></th>\n",
       "      <th>allInPings</th>\n",
       "      <th>assistMePings</th>\n",
       "      <th>assists</th>\n",
       "      <th>baitPings</th>\n",
       "      <th>baronKills</th>\n",
       "      <th>basicPings</th>\n",
       "      <th>bountyLevel</th>\n",
       "      <th>challenges</th>\n",
       "      <th>champExperience</th>\n",
       "      <th>champLevel</th>\n",
       "      <th>...</th>\n",
       "      <th>turretKills</th>\n",
       "      <th>turretTakedowns</th>\n",
       "      <th>turretsLost</th>\n",
       "      <th>unrealKills</th>\n",
       "      <th>visionClearedPings</th>\n",
       "      <th>visionScore</th>\n",
       "      <th>visionWardsBoughtInGame</th>\n",
       "      <th>wardsKilled</th>\n",
       "      <th>wardsPlaced</th>\n",
       "      <th>win</th>\n",
       "    </tr>\n",
       "  </thead>\n",
       "  <tbody>\n",
       "    <tr>\n",
       "      <th>3</th>\n",
       "      <td>0</td>\n",
       "      <td>0</td>\n",
       "      <td>5</td>\n",
       "      <td>0</td>\n",
       "      <td>0</td>\n",
       "      <td>0</td>\n",
       "      <td>0</td>\n",
       "      <td>{'12AssistStreakCount': 0, 'abilityUses': 112,...</td>\n",
       "      <td>2856</td>\n",
       "      <td>6</td>\n",
       "      <td>...</td>\n",
       "      <td>0</td>\n",
       "      <td>0</td>\n",
       "      <td>0</td>\n",
       "      <td>0</td>\n",
       "      <td>0</td>\n",
       "      <td>30</td>\n",
       "      <td>7</td>\n",
       "      <td>3</td>\n",
       "      <td>18</td>\n",
       "      <td>True</td>\n",
       "    </tr>\n",
       "  </tbody>\n",
       "</table>\n",
       "<p>1 rows × 130 columns</p>\n",
       "</div>"
      ],
      "text/plain": [
       "   allInPings  assistMePings  assists  baitPings  baronKills  basicPings  \\\n",
       "3           0              0        5          0           0           0   \n",
       "\n",
       "   bountyLevel                                         challenges  \\\n",
       "3            0  {'12AssistStreakCount': 0, 'abilityUses': 112,...   \n",
       "\n",
       "   champExperience  champLevel  ...  turretKills turretTakedowns  turretsLost  \\\n",
       "3             2856           6  ...            0               0            0   \n",
       "\n",
       "   unrealKills  visionClearedPings  visionScore  visionWardsBoughtInGame  \\\n",
       "3            0                   0           30                        7   \n",
       "\n",
       "   wardsKilled  wardsPlaced   win  \n",
       "3            3           18  True  \n",
       "\n",
       "[1 rows x 130 columns]"
      ]
     },
     "execution_count": 131,
     "metadata": {},
     "output_type": "execute_result"
    }
   ],
   "source": [
    "df1=df[df['puuid']==puuid]\n",
    "df1"
   ]
  },
  {
   "cell_type": "code",
   "execution_count": 132,
   "metadata": {},
   "outputs": [
    {
     "name": "stderr",
     "output_type": "stream",
     "text": [
      "C:\\Users\\066\\AppData\\Local\\Temp\\ipykernel_29912\\3959771956.py:2: SettingWithCopyWarning: \n",
      "A value is trying to be set on a copy of a slice from a DataFrame.\n",
      "Try using .loc[row_indexer,col_indexer] = value instead\n",
      "\n",
      "See the caveats in the documentation: https://pandas.pydata.org/pandas-docs/stable/user_guide/indexing.html#returning-a-view-versus-a-copy\n",
      "  df1['Player']=username\n",
      "C:\\Users\\066\\AppData\\Local\\Temp\\ipykernel_29912\\3959771956.py:3: SettingWithCopyWarning: \n",
      "A value is trying to be set on a copy of a slice from a DataFrame.\n",
      "Try using .loc[row_indexer,col_indexer] = value instead\n",
      "\n",
      "See the caveats in the documentation: https://pandas.pydata.org/pandas-docs/stable/user_guide/indexing.html#returning-a-view-versus-a-copy\n",
      "  df1['KDA 0.5']=(df1['kills']+df1['assists'])/(df1['deaths']+0.5)\n",
      "C:\\Users\\066\\AppData\\Local\\Temp\\ipykernel_29912\\3959771956.py:5: SettingWithCopyWarning: \n",
      "A value is trying to be set on a copy of a slice from a DataFrame.\n",
      "Try using .loc[row_indexer,col_indexer] = value instead\n",
      "\n",
      "See the caveats in the documentation: https://pandas.pydata.org/pandas-docs/stable/user_guide/indexing.html#returning-a-view-versus-a-copy\n",
      "  df1['CSM']=df1['totalMinionsKilled']/df1['timePlayed']\n",
      "C:\\Users\\066\\AppData\\Local\\Temp\\ipykernel_29912\\3959771956.py:7: SettingWithCopyWarning: \n",
      "A value is trying to be set on a copy of a slice from a DataFrame.\n",
      "Try using .loc[row_indexer,col_indexer] = value instead\n",
      "\n",
      "See the caveats in the documentation: https://pandas.pydata.org/pandas-docs/stable/user_guide/indexing.html#returning-a-view-versus-a-copy\n",
      "  df1['GPM']=df1['goldEarned']/df1['timePlayed']\n",
      "C:\\Users\\066\\AppData\\Local\\Temp\\ipykernel_29912\\3959771956.py:9: SettingWithCopyWarning: \n",
      "A value is trying to be set on a copy of a slice from a DataFrame.\n",
      "Try using .loc[row_indexer,col_indexer] = value instead\n",
      "\n",
      "See the caveats in the documentation: https://pandas.pydata.org/pandas-docs/stable/user_guide/indexing.html#returning-a-view-versus-a-copy\n",
      "  df1['VSPM']=df1['visionScore']/df1['timePlayed']\n",
      "C:\\Users\\066\\AppData\\Local\\Temp\\ipykernel_29912\\3959771956.py:10: SettingWithCopyWarning: \n",
      "A value is trying to be set on a copy of a slice from a DataFrame.\n",
      "Try using .loc[row_indexer,col_indexer] = value instead\n",
      "\n",
      "See the caveats in the documentation: https://pandas.pydata.org/pandas-docs/stable/user_guide/indexing.html#returning-a-view-versus-a-copy\n",
      "  df1['WPM']=df1['wardsPlaced']/df1['timePlayed']\n",
      "C:\\Users\\066\\AppData\\Local\\Temp\\ipykernel_29912\\3959771956.py:11: SettingWithCopyWarning: \n",
      "A value is trying to be set on a copy of a slice from a DataFrame.\n",
      "Try using .loc[row_indexer,col_indexer] = value instead\n",
      "\n",
      "See the caveats in the documentation: https://pandas.pydata.org/pandas-docs/stable/user_guide/indexing.html#returning-a-view-versus-a-copy\n",
      "  df1['VWPM']=df1['detectorWardsPlaced']/df1['timePlayed']\n",
      "C:\\Users\\066\\AppData\\Local\\Temp\\ipykernel_29912\\3959771956.py:12: SettingWithCopyWarning: \n",
      "A value is trying to be set on a copy of a slice from a DataFrame.\n",
      "Try using .loc[row_indexer,col_indexer] = value instead\n",
      "\n",
      "See the caveats in the documentation: https://pandas.pydata.org/pandas-docs/stable/user_guide/indexing.html#returning-a-view-versus-a-copy\n",
      "  df1['WCPM']=df1['wardsKilled']/df1['timePlayed']\n",
      "C:\\Users\\066\\AppData\\Local\\Temp\\ipykernel_29912\\3959771956.py:14: SettingWithCopyWarning: \n",
      "A value is trying to be set on a copy of a slice from a DataFrame.\n",
      "Try using .loc[row_indexer,col_indexer] = value instead\n",
      "\n",
      "See the caveats in the documentation: https://pandas.pydata.org/pandas-docs/stable/user_guide/indexing.html#returning-a-view-versus-a-copy\n",
      "  df1['DPM']=df1['totalDamageDealtToChampions']/df1['timePlayed']\n",
      "C:\\Users\\066\\AppData\\Local\\Temp\\ipykernel_29912\\3959771956.py:16: SettingWithCopyWarning: \n",
      "A value is trying to be set on a copy of a slice from a DataFrame.\n",
      "Try using .loc[row_indexer,col_indexer] = value instead\n",
      "\n",
      "See the caveats in the documentation: https://pandas.pydata.org/pandas-docs/stable/user_guide/indexing.html#returning-a-view-versus-a-copy\n",
      "  df1['K+A Per Minute']=(df1['kills']+df1['assists'])/df1['timePlayed']\n",
      "C:\\Users\\066\\AppData\\Local\\Temp\\ipykernel_29912\\3959771956.py:26: SettingWithCopyWarning: \n",
      "A value is trying to be set on a copy of a slice from a DataFrame.\n",
      "Try using .loc[row_indexer,col_indexer] = value instead\n",
      "\n",
      "See the caveats in the documentation: https://pandas.pydata.org/pandas-docs/stable/user_guide/indexing.html#returning-a-view-versus-a-copy\n",
      "  df1['GD@15']=r_timeline['info']['frames'][15]['participantFrames'][usernum]['totalGold']\n",
      "C:\\Users\\066\\AppData\\Local\\Temp\\ipykernel_29912\\3959771956.py:28: SettingWithCopyWarning: \n",
      "A value is trying to be set on a copy of a slice from a DataFrame.\n",
      "Try using .loc[row_indexer,col_indexer] = value instead\n",
      "\n",
      "See the caveats in the documentation: https://pandas.pydata.org/pandas-docs/stable/user_guide/indexing.html#returning-a-view-versus-a-copy\n",
      "  df1['CSD@15']=r_timeline['info']['frames'][15]['participantFrames'][usernum]['minionsKilled']\n",
      "C:\\Users\\066\\AppData\\Local\\Temp\\ipykernel_29912\\3959771956.py:30: SettingWithCopyWarning: \n",
      "A value is trying to be set on a copy of a slice from a DataFrame.\n",
      "Try using .loc[row_indexer,col_indexer] = value instead\n",
      "\n",
      "See the caveats in the documentation: https://pandas.pydata.org/pandas-docs/stable/user_guide/indexing.html#returning-a-view-versus-a-copy\n",
      "  df1['XPD@15']=r_timeline['info']['frames'][15]['participantFrames'][usernum]['xp']\n",
      "C:\\Users\\066\\AppData\\Local\\Temp\\ipykernel_29912\\3959771956.py:32: SettingWithCopyWarning: \n",
      "A value is trying to be set on a copy of a slice from a DataFrame.\n",
      "Try using .loc[row_indexer,col_indexer] = value instead\n",
      "\n",
      "See the caveats in the documentation: https://pandas.pydata.org/pandas-docs/stable/user_guide/indexing.html#returning-a-view-versus-a-copy\n",
      "  df1['LVLD@15']=r_timeline['info']['frames'][15]['participantFrames'][usernum]['level']-r_timeline['info']['frames'][15]['participantFrames'][oppnum]['level']#,'minionsKilled','xp']\n",
      "C:\\Users\\066\\AppData\\Local\\Temp\\ipykernel_29912\\3959771956.py:36: SettingWithCopyWarning: \n",
      "A value is trying to be set on a copy of a slice from a DataFrame.\n",
      "Try using .loc[row_indexer,col_indexer] = value instead\n",
      "\n",
      "See the caveats in the documentation: https://pandas.pydata.org/pandas-docs/stable/user_guide/indexing.html#returning-a-view-versus-a-copy\n",
      "  df1['GOLD ratio']=df1['goldEarned']/df[df['teamId']==int(df1['teamId'])]['goldEarned'].sum(axis=0)*100\n",
      "C:\\Users\\066\\AppData\\Local\\Temp\\ipykernel_29912\\3959771956.py:37: SettingWithCopyWarning: \n",
      "A value is trying to be set on a copy of a slice from a DataFrame.\n",
      "Try using .loc[row_indexer,col_indexer] = value instead\n",
      "\n",
      "See the caveats in the documentation: https://pandas.pydata.org/pandas-docs/stable/user_guide/indexing.html#returning-a-view-versus-a-copy\n",
      "  df1['VS ratio']=df1['visionScore']/df[df['teamId']==int(df1['teamId'])]['visionScore'].sum(axis=0)*100\n",
      "C:\\Users\\066\\AppData\\Local\\Temp\\ipykernel_29912\\3959771956.py:38: SettingWithCopyWarning: \n",
      "A value is trying to be set on a copy of a slice from a DataFrame.\n",
      "Try using .loc[row_indexer,col_indexer] = value instead\n",
      "\n",
      "See the caveats in the documentation: https://pandas.pydata.org/pandas-docs/stable/user_guide/indexing.html#returning-a-view-versus-a-copy\n",
      "  df1['DMG ratio']=df1['totalDamageDealtToChampions']/df[df['teamId']==int(df1['teamId'])]['totalDamageDealtToChampions'].sum(axis=0)*100\n",
      "C:\\Users\\066\\AppData\\Local\\Temp\\ipykernel_29912\\3959771956.py:39: SettingWithCopyWarning: \n",
      "A value is trying to be set on a copy of a slice from a DataFrame.\n",
      "Try using .loc[row_indexer,col_indexer] = value instead\n",
      "\n",
      "See the caveats in the documentation: https://pandas.pydata.org/pandas-docs/stable/user_guide/indexing.html#returning-a-view-versus-a-copy\n",
      "  df1['KP ratio']=(df1['kills']+df1['assists'])/df[df['teamId']==int(df1['teamId'])]['kills'].sum(axis=0)*100\n"
     ]
    }
   ],
   "source": [
    "df1=df[df['puuid']==puuid]\n",
    "df1['Player']=username\n",
    "df1['KDA 0.5']=(df1['kills']+df1['assists'])/(df1['deaths']+0.5)\n",
    "\n",
    "df1['CSM']=df1['totalMinionsKilled']/df1['timePlayed']\n",
    "\n",
    "df1['GPM']=df1['goldEarned']/df1['timePlayed']\n",
    "\n",
    "df1['VSPM']=df1['visionScore']/df1['timePlayed']\n",
    "df1['WPM']=df1['wardsPlaced']/df1['timePlayed']\n",
    "df1['VWPM']=df1['detectorWardsPlaced']/df1['timePlayed']\n",
    "df1['WCPM']=df1['wardsKilled']/df1['timePlayed']\n",
    "\n",
    "df1['DPM']=df1['totalDamageDealtToChampions']/df1['timePlayed']\n",
    "\n",
    "df1['K+A Per Minute']=(df1['kills']+df1['assists'])/df1['timePlayed']\n",
    "\n",
    "#이건 생략\n",
    "#  df1['Shutdown bounty collected']\n",
    "#  df1['Shutdown bounty lost']\n",
    "#  df1['Solo kills']=\n",
    "\n",
    "#timeline지표들\n",
    "usernum=str(df1['participantId'].iloc[0])\n",
    "oppnum=str((int(usernum)+4)%10+1)\n",
    "df1['GD@15']=r_timeline['info']['frames'][15]['participantFrames'][usernum]['totalGold']\n",
    "\n",
    "df1['CSD@15']=r_timeline['info']['frames'][15]['participantFrames'][usernum]['minionsKilled']\n",
    "\n",
    "df1['XPD@15']=r_timeline['info']['frames'][15]['participantFrames'][usernum]['xp']\n",
    "\n",
    "df1['LVLD@15']=r_timeline['info']['frames'][15]['participantFrames'][usernum]['level']-r_timeline['info']['frames'][15]['participantFrames'][oppnum]['level']#,'minionsKilled','xp']\n",
    "\n",
    "# %지표들\n",
    "\n",
    "df1['GOLD ratio']=df1['goldEarned']/df[df['teamId']==int(df1['teamId'])]['goldEarned'].sum(axis=0)*100\n",
    "df1['VS ratio']=df1['visionScore']/df[df['teamId']==int(df1['teamId'])]['visionScore'].sum(axis=0)*100\n",
    "df1['DMG ratio']=df1['totalDamageDealtToChampions']/df[df['teamId']==int(df1['teamId'])]['totalDamageDealtToChampions'].sum(axis=0)*100\n",
    "df1['KP ratio']=(df1['kills']+df1['assists'])/df[df['teamId']==int(df1['teamId'])]['kills'].sum(axis=0)*100"
   ]
  },
  {
   "cell_type": "code",
   "execution_count": 152,
   "metadata": {},
   "outputs": [
    {
     "data": {
      "text/plain": [
       "0                앙팥빵\n",
       "1                이설인\n",
       "2          In or Out\n",
       "3               플라밍고\n",
       "4              뚱이 원딜\n",
       "5              박치기형탑\n",
       "6                루휘시\n",
       "7       2nd of a day\n",
       "8            달리는 인우캣\n",
       "9    No Chatting Sup\n",
       "Name: summonerName, dtype: object"
      ]
     },
     "execution_count": 152,
     "metadata": {},
     "output_type": "execute_result"
    }
   ],
   "source": [
    "df['summonerName']"
   ]
  },
  {
   "cell_type": "code",
   "execution_count": 115,
   "metadata": {},
   "outputs": [
    {
     "name": "stderr",
     "output_type": "stream",
     "text": [
      "C:\\Users\\066\\AppData\\Local\\Temp\\ipykernel_29912\\3113021400.py:1: SettingWithCopyWarning: \n",
      "A value is trying to be set on a copy of a slice from a DataFrame.\n",
      "Try using .loc[row_indexer,col_indexer] = value instead\n",
      "\n",
      "See the caveats in the documentation: https://pandas.pydata.org/pandas-docs/stable/user_guide/indexing.html#returning-a-view-versus-a-copy\n",
      "  df1['XPD@15']=r_timeline['info']['frames'][15]['participantFrames'][usernum]['xp']\n"
     ]
    }
   ],
   "source": [
    "df1['XPD@15']=r_timeline['info']['frames'][15]['participantFrames'][usernum]['xp']"
   ]
  },
  {
   "cell_type": "code",
   "execution_count": 107,
   "metadata": {},
   "outputs": [
    {
     "name": "stderr",
     "output_type": "stream",
     "text": [
      "C:\\Users\\066\\AppData\\Local\\Temp\\ipykernel_29912\\3113021400.py:1: SettingWithCopyWarning: \n",
      "A value is trying to be set on a copy of a slice from a DataFrame.\n",
      "Try using .loc[row_indexer,col_indexer] = value instead\n",
      "\n",
      "See the caveats in the documentation: https://pandas.pydata.org/pandas-docs/stable/user_guide/indexing.html#returning-a-view-versus-a-copy\n",
      "  df1['XPD@15']=r_timeline['info']['frames'][15]['participantFrames'][usernum]['xp']\n"
     ]
    }
   ],
   "source": [
    "df1['XPD@15']=r_timeline['info']['frames'][15]['participantFrames'][usernum]['xp']"
   ]
  },
  {
   "cell_type": "code",
   "execution_count": 111,
   "metadata": {},
   "outputs": [
    {
     "data": {
      "text/plain": [
       "0     1\n",
       "1     2\n",
       "2     3\n",
       "3     4\n",
       "4     5\n",
       "5     6\n",
       "6     7\n",
       "7     8\n",
       "8     9\n",
       "9    10\n",
       "Name: participantId, dtype: int64"
      ]
     },
     "execution_count": 111,
     "metadata": {},
     "output_type": "execute_result"
    }
   ],
   "source": [
    "df['participantId']"
   ]
  }
 ],
 "metadata": {
  "kernelspec": {
   "display_name": "base",
   "language": "python",
   "name": "python3"
  },
  "language_info": {
   "codemirror_mode": {
    "name": "ipython",
    "version": 3
   },
   "file_extension": ".py",
   "mimetype": "text/x-python",
   "name": "python",
   "nbconvert_exporter": "python",
   "pygments_lexer": "ipython3",
   "version": "3.10.9"
  },
  "orig_nbformat": 4
 },
 "nbformat": 4,
 "nbformat_minor": 2
}
